{
 "cells": [
  {
   "cell_type": "code",
   "execution_count": 1,
   "metadata": {
    "collapsed": false
   },
   "outputs": [
    {
     "name": "stderr",
     "output_type": "stream",
     "text": [
      "//anaconda/lib/python2.7/site-packages/matplotlib/font_manager.py:273: UserWarning: Matplotlib is building the font cache using fc-list. This may take a moment.\n",
      "  warnings.warn('Matplotlib is building the font cache using fc-list. This may take a moment.')\n",
      "ERROR:root:Line magic function `%pbd` not found.\n"
     ]
    },
    {
     "name": "stdout",
     "output_type": "stream",
     "text": [
      "Populating the interactive namespace from numpy and matplotlib\n"
     ]
    }
   ],
   "source": [
    "# %reset \n",
    "import numpy as np\n",
    "import scipy\n",
    "from skimage import morphology, io\n",
    "import matplotlib.pyplot as plt\n",
    "import os\n",
    "import sys\n",
    "sys.path.append(\"/Users/xiaolihe/Documents/Computer-Vision-534/hw2\")\n",
    "import pdb\n",
    "%pylab inline\n",
    "%pbd on"
   ]
  },
  {
   "cell_type": "code",
   "execution_count": 2,
   "metadata": {
    "collapsed": false
   },
   "outputs": [
    {
     "name": "stdout",
     "output_type": "stream",
     "text": [
      "Automatic pdb calling has been turned ON\n"
     ]
    }
   ],
   "source": [
    "%pdb on"
   ]
  },
  {
   "cell_type": "code",
   "execution_count": 28,
   "metadata": {
    "collapsed": false,
    "scrolled": true
   },
   "outputs": [
    {
     "name": "stderr",
     "output_type": "stream",
     "text": [
      "/anaconda/lib/python2.7/site-packages/ipykernel/__main__.py:12: VisibleDeprecationWarning: using a non-integer number instead of an integer will result in an error in the future\n"
     ]
    },
    {
     "name": "stdout",
     "output_type": "stream",
     "text": [
      "> <ipython-input-28-1a7456ac38a2>(107)FindMatches()\n",
      "-> thr = SSD[SSD!=0].min()*(1+ErrThreshold)\n",
      "(Pdb) n\n",
      "> <ipython-input-28-1a7456ac38a2>(108)FindMatches()\n",
      "-> for i in range(SSD.shape[0]):\n",
      "(Pdb) thr\n",
      "3548.4996829567503\n",
      "(Pdb) n\n",
      "> <ipython-input-28-1a7456ac38a2>(109)FindMatches()\n",
      "-> for j in range(SSD.shape[1]):\n",
      "(Pdb) n\n",
      "> <ipython-input-28-1a7456ac38a2>(110)FindMatches()\n",
      "-> if SSD[i,j] <= thr:\n",
      "(Pdb) c\n",
      "> <ipython-input-28-1a7456ac38a2>(107)FindMatches()\n",
      "-> thr = SSD[SSD!=0].min()*(1+ErrThreshold)\n",
      "(Pdb) thr\n",
      "*** NameError: name 'thr' is not defined\n",
      "(Pdb) n\n",
      "> <ipython-input-28-1a7456ac38a2>(108)FindMatches()\n",
      "-> for i in range(SSD.shape[0]):\n",
      "(Pdb) thr\n",
      "3187.488678109366\n",
      "(Pdb) SSD[SSD>thr].sum\n",
      "<built-in method sum of numpy.ndarray object at 0x1451413f0>\n",
      "(Pdb) SSD[SSD>thr].sum()\n",
      "11005505.730131477\n",
      "(Pdb) SSD>thr.sum()\n",
      "array([[False, False, False, ..., False, False, False],\n",
      "       [False, False, False, ..., False, False, False],\n",
      "       [False, False, False, ..., False, False, False],\n",
      "       ..., \n",
      "       [False, False, False, ..., False, False, False],\n",
      "       [False, False, False, ..., False, False, False],\n",
      "       [False, False, False, ..., False, False, False]], dtype=bool)\n",
      "(Pdb)  (SSD[SSD>thr]).sum()\n",
      "11005505.730131477\n",
      "(Pdb) (SSD>thr).sum()\n",
      "2007\n",
      "(Pdb) SSD.shape()\n",
      "*** TypeError: 'tuple' object is not callable\n",
      "(Pdb) SSD.shape\n",
      "(65, 68)\n",
      "(Pdb) 65*68\n",
      "4420\n",
      "(Pdb) q\n"
     ]
    },
    {
     "ename": "BdbQuit",
     "evalue": "",
     "traceback": [
      "\u001b[0;31m---------------------------------------------------------------------------\u001b[0m",
      "\u001b[0;31mBdbQuit\u001b[0m                                   Traceback (most recent call last)",
      "\u001b[0;32m<ipython-input-28-1a7456ac38a2>\u001b[0m in \u001b[0;36m<module>\u001b[0;34m()\u001b[0m\n\u001b[1;32m    136\u001b[0m \u001b[0;34m\u001b[0m\u001b[0m\n\u001b[1;32m    137\u001b[0m \u001b[0;34m\u001b[0m\u001b[0m\n\u001b[0;32m--> 138\u001b[0;31m \u001b[0msynthesize\u001b[0m\u001b[0;34m(\u001b[0m\u001b[0;34m'T1.gif'\u001b[0m\u001b[0;34m,\u001b[0m\u001b[0;36m20\u001b[0m\u001b[0;34m,\u001b[0m\u001b[0;34m[\u001b[0m\u001b[0;36m100\u001b[0m\u001b[0;34m,\u001b[0m\u001b[0;36m100\u001b[0m\u001b[0;34m]\u001b[0m\u001b[0;34m)\u001b[0m\u001b[0;34m\u001b[0m\u001b[0m\n\u001b[0m",
      "\u001b[0;32m<ipython-input-28-1a7456ac38a2>\u001b[0m in \u001b[0;36msynthesize\u001b[0;34m(filename, winsize, shape_newimage, shape_seed)\u001b[0m\n\u001b[1;32m     22\u001b[0m \u001b[0;34m\u001b[0m\u001b[0m\n\u001b[1;32m     23\u001b[0m     \u001b[0;31m# Synthesis\u001b[0m\u001b[0;34m\u001b[0m\u001b[0;34m\u001b[0m\u001b[0m\n\u001b[0;32m---> 24\u001b[0;31m     \u001b[0mimg_new\u001b[0m \u001b[0;34m=\u001b[0m \u001b[0mGrowImage\u001b[0m\u001b[0;34m(\u001b[0m\u001b[0mimg_sample\u001b[0m\u001b[0;34m,\u001b[0m\u001b[0mimg2bfilled\u001b[0m\u001b[0;34m,\u001b[0m\u001b[0mfilled_status\u001b[0m\u001b[0;34m,\u001b[0m \u001b[0mwinsize\u001b[0m\u001b[0;34m)\u001b[0m\u001b[0;34m\u001b[0m\u001b[0m\n\u001b[0m\u001b[1;32m     25\u001b[0m \u001b[0;34m\u001b[0m\u001b[0m\n\u001b[1;32m     26\u001b[0m     \u001b[0;31m# show image\u001b[0m\u001b[0;34m\u001b[0m\u001b[0;34m\u001b[0m\u001b[0m\n",
      "\u001b[0;32m<ipython-input-28-1a7456ac38a2>\u001b[0m in \u001b[0;36mGrowImage\u001b[0;34m(SampleImage, image2bfilled, filled_status, winsize)\u001b[0m\n\u001b[1;32m     39\u001b[0m         \u001b[0;32mfor\u001b[0m \u001b[0mridx\u001b[0m\u001b[0;34m,\u001b[0m\u001b[0mcolidx\u001b[0m \u001b[0;32min\u001b[0m \u001b[0mzip\u001b[0m\u001b[0;34m(\u001b[0m\u001b[0mrow_idxs\u001b[0m\u001b[0;34m,\u001b[0m\u001b[0mcol_idxs\u001b[0m\u001b[0;34m)\u001b[0m\u001b[0;34m:\u001b[0m\u001b[0;34m\u001b[0m\u001b[0m\n\u001b[1;32m     40\u001b[0m             \u001b[0mTemplate\u001b[0m\u001b[0;34m,\u001b[0m\u001b[0mvalidmask\u001b[0m \u001b[0;34m=\u001b[0m \u001b[0mGetNeighborhoodWindow\u001b[0m\u001b[0;34m(\u001b[0m\u001b[0mridx\u001b[0m\u001b[0;34m,\u001b[0m\u001b[0mcolidx\u001b[0m\u001b[0;34m,\u001b[0m\u001b[0mimage2bfilled\u001b[0m\u001b[0;34m,\u001b[0m \u001b[0mfilled_status\u001b[0m\u001b[0;34m,\u001b[0m \u001b[0mwinsize\u001b[0m\u001b[0;34m)\u001b[0m\u001b[0;34m\u001b[0m\u001b[0m\n\u001b[0;32m---> 41\u001b[0;31m             \u001b[0mBestMatches_list\u001b[0m \u001b[0;34m=\u001b[0m \u001b[0mFindMatches\u001b[0m\u001b[0;34m(\u001b[0m\u001b[0mTemplate\u001b[0m\u001b[0;34m,\u001b[0m \u001b[0mSampleImage\u001b[0m\u001b[0;34m,\u001b[0m\u001b[0mvalidmask\u001b[0m\u001b[0;34m,\u001b[0m\u001b[0mwinsize\u001b[0m\u001b[0;34m)\u001b[0m\u001b[0;34m\u001b[0m\u001b[0m\n\u001b[0m\u001b[1;32m     42\u001b[0m             \u001b[0mBestMatch_loc\u001b[0m\u001b[0;34m,\u001b[0m \u001b[0mBestMatch_error\u001b[0m\u001b[0;34m=\u001b[0m \u001b[0mRandomPick\u001b[0m\u001b[0;34m(\u001b[0m\u001b[0mBestMatches_list\u001b[0m\u001b[0;34m)\u001b[0m\u001b[0;34m\u001b[0m\u001b[0m\n\u001b[1;32m     43\u001b[0m             \u001b[0;32mif\u001b[0m \u001b[0mBestMatch_error\u001b[0m \u001b[0;34m<\u001b[0m \u001b[0mMaxErrThreshold\u001b[0m\u001b[0;34m:\u001b[0m\u001b[0;34m\u001b[0m\u001b[0m\n",
      "\u001b[0;32m<ipython-input-28-1a7456ac38a2>\u001b[0m in \u001b[0;36mFindMatches\u001b[0;34m(Template, SampleImage, ValidMask, winsize)\u001b[0m\n\u001b[1;32m    106\u001b[0m     \u001b[0mpdb\u001b[0m\u001b[0;34m.\u001b[0m\u001b[0mset_trace\u001b[0m\u001b[0;34m(\u001b[0m\u001b[0;34m)\u001b[0m\u001b[0;34m\u001b[0m\u001b[0m\n\u001b[1;32m    107\u001b[0m     \u001b[0mthr\u001b[0m \u001b[0;34m=\u001b[0m \u001b[0mSSD\u001b[0m\u001b[0;34m[\u001b[0m\u001b[0mSSD\u001b[0m\u001b[0;34m!=\u001b[0m\u001b[0;36m0\u001b[0m\u001b[0;34m]\u001b[0m\u001b[0;34m.\u001b[0m\u001b[0mmin\u001b[0m\u001b[0;34m(\u001b[0m\u001b[0;34m)\u001b[0m\u001b[0;34m*\u001b[0m\u001b[0;34m(\u001b[0m\u001b[0;36m1\u001b[0m\u001b[0;34m+\u001b[0m\u001b[0mErrThreshold\u001b[0m\u001b[0;34m)\u001b[0m\u001b[0;34m\u001b[0m\u001b[0m\n\u001b[0;32m--> 108\u001b[0;31m     \u001b[0;32mfor\u001b[0m \u001b[0mi\u001b[0m \u001b[0;32min\u001b[0m \u001b[0mrange\u001b[0m\u001b[0;34m(\u001b[0m\u001b[0mSSD\u001b[0m\u001b[0;34m.\u001b[0m\u001b[0mshape\u001b[0m\u001b[0;34m[\u001b[0m\u001b[0;36m0\u001b[0m\u001b[0;34m]\u001b[0m\u001b[0;34m)\u001b[0m\u001b[0;34m:\u001b[0m\u001b[0;34m\u001b[0m\u001b[0m\n\u001b[0m\u001b[1;32m    109\u001b[0m         \u001b[0;32mfor\u001b[0m \u001b[0mj\u001b[0m \u001b[0;32min\u001b[0m \u001b[0mrange\u001b[0m\u001b[0;34m(\u001b[0m\u001b[0mSSD\u001b[0m\u001b[0;34m.\u001b[0m\u001b[0mshape\u001b[0m\u001b[0;34m[\u001b[0m\u001b[0;36m1\u001b[0m\u001b[0;34m]\u001b[0m\u001b[0;34m)\u001b[0m\u001b[0;34m:\u001b[0m\u001b[0;34m\u001b[0m\u001b[0m\n\u001b[1;32m    110\u001b[0m             \u001b[0;32mif\u001b[0m \u001b[0mSSD\u001b[0m\u001b[0;34m[\u001b[0m\u001b[0mi\u001b[0m\u001b[0;34m,\u001b[0m\u001b[0mj\u001b[0m\u001b[0;34m]\u001b[0m \u001b[0;34m<=\u001b[0m \u001b[0mthr\u001b[0m\u001b[0;34m:\u001b[0m\u001b[0;34m\u001b[0m\u001b[0m\n",
      "\u001b[0;32m<ipython-input-28-1a7456ac38a2>\u001b[0m in \u001b[0;36mFindMatches\u001b[0;34m(Template, SampleImage, ValidMask, winsize)\u001b[0m\n\u001b[1;32m    106\u001b[0m     \u001b[0mpdb\u001b[0m\u001b[0;34m.\u001b[0m\u001b[0mset_trace\u001b[0m\u001b[0;34m(\u001b[0m\u001b[0;34m)\u001b[0m\u001b[0;34m\u001b[0m\u001b[0m\n\u001b[1;32m    107\u001b[0m     \u001b[0mthr\u001b[0m \u001b[0;34m=\u001b[0m \u001b[0mSSD\u001b[0m\u001b[0;34m[\u001b[0m\u001b[0mSSD\u001b[0m\u001b[0;34m!=\u001b[0m\u001b[0;36m0\u001b[0m\u001b[0;34m]\u001b[0m\u001b[0;34m.\u001b[0m\u001b[0mmin\u001b[0m\u001b[0;34m(\u001b[0m\u001b[0;34m)\u001b[0m\u001b[0;34m*\u001b[0m\u001b[0;34m(\u001b[0m\u001b[0;36m1\u001b[0m\u001b[0;34m+\u001b[0m\u001b[0mErrThreshold\u001b[0m\u001b[0;34m)\u001b[0m\u001b[0;34m\u001b[0m\u001b[0m\n\u001b[0;32m--> 108\u001b[0;31m     \u001b[0;32mfor\u001b[0m \u001b[0mi\u001b[0m \u001b[0;32min\u001b[0m \u001b[0mrange\u001b[0m\u001b[0;34m(\u001b[0m\u001b[0mSSD\u001b[0m\u001b[0;34m.\u001b[0m\u001b[0mshape\u001b[0m\u001b[0;34m[\u001b[0m\u001b[0;36m0\u001b[0m\u001b[0;34m]\u001b[0m\u001b[0;34m)\u001b[0m\u001b[0;34m:\u001b[0m\u001b[0;34m\u001b[0m\u001b[0m\n\u001b[0m\u001b[1;32m    109\u001b[0m         \u001b[0;32mfor\u001b[0m \u001b[0mj\u001b[0m \u001b[0;32min\u001b[0m \u001b[0mrange\u001b[0m\u001b[0;34m(\u001b[0m\u001b[0mSSD\u001b[0m\u001b[0;34m.\u001b[0m\u001b[0mshape\u001b[0m\u001b[0;34m[\u001b[0m\u001b[0;36m1\u001b[0m\u001b[0;34m]\u001b[0m\u001b[0;34m)\u001b[0m\u001b[0;34m:\u001b[0m\u001b[0;34m\u001b[0m\u001b[0m\n\u001b[1;32m    110\u001b[0m             \u001b[0;32mif\u001b[0m \u001b[0mSSD\u001b[0m\u001b[0;34m[\u001b[0m\u001b[0mi\u001b[0m\u001b[0;34m,\u001b[0m\u001b[0mj\u001b[0m\u001b[0;34m]\u001b[0m \u001b[0;34m<=\u001b[0m \u001b[0mthr\u001b[0m\u001b[0;34m:\u001b[0m\u001b[0;34m\u001b[0m\u001b[0m\n",
      "\u001b[0;32m//anaconda/lib/python2.7/bdb.pyc\u001b[0m in \u001b[0;36mtrace_dispatch\u001b[0;34m(self, frame, event, arg)\u001b[0m\n\u001b[1;32m     47\u001b[0m             \u001b[0;32mreturn\u001b[0m \u001b[0;31m# None\u001b[0m\u001b[0;34m\u001b[0m\u001b[0m\n\u001b[1;32m     48\u001b[0m         \u001b[0;32mif\u001b[0m \u001b[0mevent\u001b[0m \u001b[0;34m==\u001b[0m \u001b[0;34m'line'\u001b[0m\u001b[0;34m:\u001b[0m\u001b[0;34m\u001b[0m\u001b[0m\n\u001b[0;32m---> 49\u001b[0;31m             \u001b[0;32mreturn\u001b[0m \u001b[0mself\u001b[0m\u001b[0;34m.\u001b[0m\u001b[0mdispatch_line\u001b[0m\u001b[0;34m(\u001b[0m\u001b[0mframe\u001b[0m\u001b[0;34m)\u001b[0m\u001b[0;34m\u001b[0m\u001b[0m\n\u001b[0m\u001b[1;32m     50\u001b[0m         \u001b[0;32mif\u001b[0m \u001b[0mevent\u001b[0m \u001b[0;34m==\u001b[0m \u001b[0;34m'call'\u001b[0m\u001b[0;34m:\u001b[0m\u001b[0;34m\u001b[0m\u001b[0m\n\u001b[1;32m     51\u001b[0m             \u001b[0;32mreturn\u001b[0m \u001b[0mself\u001b[0m\u001b[0;34m.\u001b[0m\u001b[0mdispatch_call\u001b[0m\u001b[0;34m(\u001b[0m\u001b[0mframe\u001b[0m\u001b[0;34m,\u001b[0m \u001b[0marg\u001b[0m\u001b[0;34m)\u001b[0m\u001b[0;34m\u001b[0m\u001b[0m\n",
      "\u001b[0;32m//anaconda/lib/python2.7/bdb.pyc\u001b[0m in \u001b[0;36mdispatch_line\u001b[0;34m(self, frame)\u001b[0m\n\u001b[1;32m     66\u001b[0m         \u001b[0;32mif\u001b[0m \u001b[0mself\u001b[0m\u001b[0;34m.\u001b[0m\u001b[0mstop_here\u001b[0m\u001b[0;34m(\u001b[0m\u001b[0mframe\u001b[0m\u001b[0;34m)\u001b[0m \u001b[0;32mor\u001b[0m \u001b[0mself\u001b[0m\u001b[0;34m.\u001b[0m\u001b[0mbreak_here\u001b[0m\u001b[0;34m(\u001b[0m\u001b[0mframe\u001b[0m\u001b[0;34m)\u001b[0m\u001b[0;34m:\u001b[0m\u001b[0;34m\u001b[0m\u001b[0m\n\u001b[1;32m     67\u001b[0m             \u001b[0mself\u001b[0m\u001b[0;34m.\u001b[0m\u001b[0muser_line\u001b[0m\u001b[0;34m(\u001b[0m\u001b[0mframe\u001b[0m\u001b[0;34m)\u001b[0m\u001b[0;34m\u001b[0m\u001b[0m\n\u001b[0;32m---> 68\u001b[0;31m             \u001b[0;32mif\u001b[0m \u001b[0mself\u001b[0m\u001b[0;34m.\u001b[0m\u001b[0mquitting\u001b[0m\u001b[0;34m:\u001b[0m \u001b[0;32mraise\u001b[0m \u001b[0mBdbQuit\u001b[0m\u001b[0;34m\u001b[0m\u001b[0m\n\u001b[0m\u001b[1;32m     69\u001b[0m         \u001b[0;32mreturn\u001b[0m \u001b[0mself\u001b[0m\u001b[0;34m.\u001b[0m\u001b[0mtrace_dispatch\u001b[0m\u001b[0;34m\u001b[0m\u001b[0m\n\u001b[1;32m     70\u001b[0m \u001b[0;34m\u001b[0m\u001b[0m\n",
      "\u001b[0;31mBdbQuit\u001b[0m: "
     ],
     "output_type": "error"
    },
    {
     "name": "stdout",
     "output_type": "stream",
     "text": [
      "> \u001b[0;32m//anaconda/lib/python2.7/bdb.py\u001b[0m(68)\u001b[0;36mdispatch_line\u001b[0;34m()\u001b[0m\n",
      "\u001b[0;32m     66 \u001b[0;31m        \u001b[0;32mif\u001b[0m \u001b[0mself\u001b[0m\u001b[0;34m.\u001b[0m\u001b[0mstop_here\u001b[0m\u001b[0;34m(\u001b[0m\u001b[0mframe\u001b[0m\u001b[0;34m)\u001b[0m \u001b[0;32mor\u001b[0m \u001b[0mself\u001b[0m\u001b[0;34m.\u001b[0m\u001b[0mbreak_here\u001b[0m\u001b[0;34m(\u001b[0m\u001b[0mframe\u001b[0m\u001b[0;34m)\u001b[0m\u001b[0;34m:\u001b[0m\u001b[0;34m\u001b[0m\u001b[0m\n",
      "\u001b[0m\u001b[0;32m     67 \u001b[0;31m            \u001b[0mself\u001b[0m\u001b[0;34m.\u001b[0m\u001b[0muser_line\u001b[0m\u001b[0;34m(\u001b[0m\u001b[0mframe\u001b[0m\u001b[0;34m)\u001b[0m\u001b[0;34m\u001b[0m\u001b[0m\n",
      "\u001b[0m\u001b[0;32m---> 68 \u001b[0;31m            \u001b[0;32mif\u001b[0m \u001b[0mself\u001b[0m\u001b[0;34m.\u001b[0m\u001b[0mquitting\u001b[0m\u001b[0;34m:\u001b[0m \u001b[0;32mraise\u001b[0m \u001b[0mBdbQuit\u001b[0m\u001b[0;34m\u001b[0m\u001b[0m\n",
      "\u001b[0m\u001b[0;32m     69 \u001b[0;31m        \u001b[0;32mreturn\u001b[0m \u001b[0mself\u001b[0m\u001b[0;34m.\u001b[0m\u001b[0mtrace_dispatch\u001b[0m\u001b[0;34m\u001b[0m\u001b[0m\n",
      "\u001b[0m\u001b[0;32m     70 \u001b[0;31m\u001b[0;34m\u001b[0m\u001b[0m\n",
      "\u001b[0m\n",
      "ipdb> q\n"
     ]
    }
   ],
   "source": [
    "## growimage \n",
    "def synthesize(filename,winsize,shape_newimage,shape_seed = (3,3)):\n",
    "    # read sample image\n",
    "    img_sample = io.imread(os.getcwd()+'/Documents/Computer-Vision-534/hw2/Assignment-II-images/'+filename)\n",
    "#     subs_image = morphology.dilation(img_sample) - img_sample\n",
    "#     plt.imshow(subs_image);\n",
    "#     find(subs_image)\n",
    "    \n",
    "    # initialize img2bfilled with a random sample from sample image (size: shape_seed) \n",
    "    randrow = round(rand()*(img_sample.shape[0]-shape_seed[0]))\n",
    "    randcol = round(rand()*(img_sample.shape[1]-shape_seed[1]))\n",
    "    seed_img = img_sample[randrow : randrow + shape_seed[0], randcol : randcol + shape_seed[1]]\n",
    "    #(left-up corner is the center of img2bfilled)\n",
    "#     range_in_img2bfilled = (shape_newimage[0]/2 : (shape_newimage[0]/2 + shape_seed[0]),\n",
    "#                 shape_newimage[1]/2 : (shape_newimage[1]/2 + shape_seed[1]))\n",
    "    img2bfilled = np.zeros(shape_newimage)\n",
    "    img2bfilled[shape_newimage[0]/2 : (shape_newimage[0]/2 + shape_seed[0]),\n",
    "                shape_newimage[1]/2 : (shape_newimage[1]/2 + shape_seed[1])] = seed_img \n",
    "    filled_status = np.ones(shape_newimage) == False\n",
    "    filled_status[shape_newimage[0]/2 : (shape_newimage[0]/2 + shape_seed[0]),\n",
    "                shape_newimage[1]/2 : (shape_newimage[1]/2 + shape_seed[1])] = True\n",
    "    \n",
    "    # Synthesis\n",
    "    img_new = GrowImage(img_sample,img2bfilled,filled_status, winsize)\n",
    "\n",
    "    # show image\n",
    "    plt.imshow(img_sample)\n",
    "    plt.title('sample image')\n",
    "    plt.show()\n",
    "    plt.imshow(img_new)\n",
    "    plt.title('Sythesized image')\n",
    "    plt.show()\n",
    "    \n",
    "def GrowImage(SampleImage, image2bfilled, filled_status, winsize):\n",
    "    MaxErrThreshold = 0.3\n",
    "    while not filled_status.all():\n",
    "        progress = 0\n",
    "        row_idxs,col_idxs = GetUnfilledNeighbors(image2bfilled, winsize)\n",
    "        for ridx,colidx in zip(row_idxs,col_idxs):\n",
    "            Template,validmask = GetNeighborhoodWindow(ridx,colidx,image2bfilled, filled_status, winsize)\n",
    "            BestMatches_list = FindMatches(Template, SampleImage,validmask,winsize)\n",
    "            BestMatch_loc, BestMatch_error= RandomPick(BestMatches_list)\n",
    "            if BestMatch_error < MaxErrThreshold:\n",
    "                image2bfilled[ridx,colidx] = SampleImage[BestMatch_loc]\n",
    "                progress = 1\n",
    "                filled_status[ridx,colidx] = True\n",
    "        # pdb.set_trace()\n",
    "        plt.imshow(image2bfilled,cmap='gray')\n",
    "        plt.show()\n",
    "        if progress == 0:\n",
    "            MaxErrThreshold = MaxErrThreshold * 1.1\n",
    "    return Image\n",
    "\n",
    "## GetUnfilledNeighbors\n",
    "def GetUnfilledNeighbors(image2bfilled, winsize):\n",
    "    subs_image = morphology.dilation(image2bfilled) - image2bfilled\n",
    "#     pdb.set_trace()\n",
    "    [row_idxs, col_idxs] = np.where(subs_image!=0)\n",
    "    # random permutation\n",
    "    randidx = np.random.permutation(len(row_idxs))\n",
    "    row_idxs = [row_idxs[idx] for idx in randidx]\n",
    "    col_idxs = [col_idxs[idx] for idx in randidx]\n",
    "    # sorted by decreasing number of filled neighbor pixels\n",
    "    filledsum  = scipy.ndimage.generic_filter(image2bfilled, np.sum, winsize)\n",
    "#     pdb.set_trace()\n",
    "    filledsum_bs = [filledsum[x,y] for x,y in zip(row_idxs,col_idxs)]\n",
    "#     pdb.set_trace()\n",
    "    sorted_idx = np.array(filledsum_bs).argsort()[::-1]\n",
    "    res_row = [row_idxs[i] for i in sorted_idx]\n",
    "    res_col = [col_idxs[i] for i in sorted_idx]\n",
    "    return res_row, res_col\n",
    "\n",
    "## GetNeighborhoodWindow\n",
    "def GetNeighborhoodWindow(ridx,colidx,image2bfilled,filled_status, winsize):\n",
    "    half_winsize = winsize/2\n",
    "    row_range = range(ridx - half_winsize,ridx + half_winsize + 1)\n",
    "    col_range = range(colidx - half_winsize,colidx + half_winsize + 1)\n",
    "    template = np.zeros((winsize,winsize))\n",
    "    template_filled_status = np.ones((winsize,winsize)) == False\n",
    "    for r in range(winsize):\n",
    "        for c in range(winsize):\n",
    "            if row_range[r] in range(image2bfilled.shape[0]) and col_range[c] in range(image2bfilled.shape[1]):\n",
    "                template[r,c] = image2bfilled[row_range[r],col_range[c]]\n",
    "                template_filled_status[r,c] = True\n",
    "    return template,template_filled_status\n",
    "    \n",
    "    \n",
    "## Find Matches, return locations, corresponding ssd\n",
    "def FindMatches(Template,SampleImage,ValidMask,winsize):\n",
    "    Sigma = winsize/6.4\n",
    "    ErrThreshold = 0.1\n",
    "    sample_r, sample_c = SampleImage.shape;\n",
    "    \n",
    "    GaussMask = gkern(winsize,Sigma)\n",
    "    maskintotal = np.multiply(ValidMask,GaussMask)\n",
    "    mask_normalized = maskintotal/maskintotal.sum()\n",
    "    SSD = np.zeros(SampleImage.shape)\n",
    "    PixelList = [] # locations of qualified candidates\n",
    "#     for i,j in zip(range(winsize/2, sample_r - winsize/2-1), range(winsize/2, sample_c - winsize/2-1)): # for each patch in SampleImage\n",
    "    for i in range(winsize/2, sample_r - winsize/2-1): # for each patch in SampleImage\n",
    "        for j in range(winsize/2,sample_c- winsize/2-1):\n",
    "#             pdb.set_trace()\n",
    "            curr_patch = SampleImage[i-winsize/2:i+winsize/2, j-winsize/2:j+winsize/2]\n",
    "            dist = (Template-curr_patch)**2\n",
    "            SSD[i,j] += np.multiply(dist, mask_normalized).sum()\n",
    "#     pdb.set_trace()\n",
    "    thr = SSD[SSD!=0].min()*(1+ErrThreshold)\n",
    "    for i in range(SSD.shape[0]):\n",
    "        for j in range(SSD.shape[1]):\n",
    "            if SSD[i,j] <= thr:\n",
    "                PixelList.append([(i,j),SSD[i,j]])\n",
    "    return PixelList\n",
    "\n",
    "def gkern(size, fwhm = 3, center=None):\n",
    "    \"\"\" Make a square gaussian kernel.\n",
    "\n",
    "    size is the length of a side of the square\n",
    "    fwhm is full-width-half-maximum, which\n",
    "    can be thought of as an effective radius.\n",
    "    \"\"\"\n",
    "\n",
    "    x = np.arange(0, size, 1, float)\n",
    "    y = x[:,np.newaxis]\n",
    "\n",
    "    if center is None:\n",
    "        x0 = y0 = size // 2\n",
    "    else:\n",
    "        x0 = center[0]\n",
    "        y0 = center[1]\n",
    "\n",
    "    return np.exp(-4*np.log(2) * ((x-x0)**2 + (y-y0)**2) / fwhm**2)\n",
    "\n",
    "def RandomPick(BestMatches):\n",
    "    ## return the location of the best match randomly from the candidates lists\n",
    "    return BestMatches[randint(0,len(BestMatches))]\n",
    "\n",
    "\n",
    "synthesize('T1.gif',20,[100,100])"
   ]
  },
  {
   "cell_type": "code",
   "execution_count": null,
   "metadata": {
    "collapsed": false
   },
   "outputs": [],
   "source": [
    "def makeGaussian(size, fwhm = 3, center=None):\n",
    "    \"\"\" Make a square gaussian kernel.\n",
    "\n",
    "    size is the length of a side of the square\n",
    "    fwhm is full-width-half-maximum, which\n",
    "    can be thought of as an effective radius.\n",
    "    \"\"\"\n",
    "\n",
    "    x = np.arange(0, size, 1, float)\n",
    "    y = x[:,np.newaxis]\n",
    "\n",
    "    if center is None:\n",
    "        x0 = y0 = size // 2\n",
    "    else:\n",
    "        x0 = center[0]\n",
    "        y0 = center[1]\n",
    "\n",
    "    return np.exp(-4*np.log(2) * ((x-x0)**2 + (y-y0)**2) / fwhm**2)"
   ]
  },
  {
   "cell_type": "code",
   "execution_count": null,
   "metadata": {
    "collapsed": false
   },
   "outputs": [],
   "source": [
    "tmp = makeGaussian(3,1)\n",
    "tmp2 = np.multiply(tmp,tmp)\n",
    "tmp3 = scipy.signal.convolve2d(tmp,tmp,mode = 'same')\n",
    "print tmp2.sum(),tmp3.sum()\n",
    "print tmp\n",
    "print tmp2.sum()\n",
    "print tmp3.sum()"
   ]
  },
  {
   "cell_type": "code",
   "execution_count": 21,
   "metadata": {
    "collapsed": false
   },
   "outputs": [
    {
     "name": "stdout",
     "output_type": "stream",
     "text": [
      "[[0, 2], [3, 4]] [[1, 2], [3, 4]]\n",
      "[[ 0  4]\n",
      " [ 9 16]]\n",
      "[[ 0  8]\n",
      " [12 29]]\n",
      "[[ 0  2]\n",
      " [ 3 16]]\n"
     ]
    }
   ],
   "source": [
    "a = [[0,2],[3,4]]\n",
    "b = [[1,2],[3,4]]\n",
    "c = [[4,3],[2,1]]\n",
    "print a,b\n",
    "print np.multiply(a,b)\n",
    "print scipy.signal.convolve2d(a,c,mode = 'same')\n",
    "print scipy.signal.convolve2d(a,b,mode = 'same')"
   ]
  },
  {
   "cell_type": "code",
   "execution_count": 26,
   "metadata": {
    "collapsed": false
   },
   "outputs": [
    {
     "data": {
      "text/plain": [
       "2"
      ]
     },
     "execution_count": 26,
     "metadata": {},
     "output_type": "execute_result"
    }
   ],
   "source": [
    "a = np.array(a)\n",
    "a[a!=0].min()"
   ]
  },
  {
   "cell_type": "code",
   "execution_count": 23,
   "metadata": {
    "collapsed": false
   },
   "outputs": [
    {
     "data": {
      "text/plain": [
       "(array([0, 1, 1]), array([1, 0, 1]))"
      ]
     },
     "execution_count": 23,
     "metadata": {},
     "output_type": "execute_result"
    }
   ],
   "source": [
    "np.nonzero(a)"
   ]
  },
  {
   "cell_type": "code",
   "execution_count": null,
   "metadata": {
    "collapsed": true
   },
   "outputs": [],
   "source": [
    ""
   ]
  }
 ],
 "metadata": {
  "kernelspec": {
   "display_name": "Python 2",
   "language": "python",
   "name": "python2"
  },
  "language_info": {
   "codemirror_mode": {
    "name": "ipython",
    "version": 2.0
   },
   "file_extension": ".py",
   "mimetype": "text/x-python",
   "name": "python",
   "nbconvert_exporter": "python",
   "pygments_lexer": "ipython2",
   "version": "2.7.12"
  }
 },
 "nbformat": 4,
 "nbformat_minor": 0
}