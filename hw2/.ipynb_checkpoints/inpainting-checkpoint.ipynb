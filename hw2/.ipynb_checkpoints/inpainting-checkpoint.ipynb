{
 "cells": [
  {
   "cell_type": "code",
<<<<<<< HEAD
<<<<<<< HEAD
   "execution_count": 5,
   "metadata": {
    "collapsed": false
   },
   "outputs": [
    {
     "name": "stdout",
     "output_type": "stream",
     "text": [
      "Automatic pdb calling has been turned ON\n"
     ]
    }
   ],
=======
   "execution_count": 6,
   "metadata": {
    "collapsed": false
   },
   "outputs": [],
>>>>>>> origin/master
=======
   "execution_count": 6,
   "metadata": {
    "collapsed": false
   },
   "outputs": [],
>>>>>>> origin/master
   "source": [
    "# coding: utf-8\n",
    "\n",
    "# In[1]:\n",
    "\n",
    "# %reset\n",
    "import numpy as np\n",
    "import scipy\n",
    "from skimage import morphology, io, img_as_float,color\n",
    "import matplotlib.pyplot as plt\n",
    "import os\n",
    "import sys\n",
    "import pdb\n",
    "import time\n",
    "from sklearn import feature_extraction as sfe\n",
    "plt.interactive(False)\n",
    "sys.path.append(\"/Users/xiaolihe/Documents/Computer-Vision-534/hw2\")\n",
    "%pdb on\n",
    "# In[2]:\n",
    "%pylab inline\n",
    "\n",
    "# In[ ]:\n",
    "\n",
    "## growimage\n",
    "def inpainting(filename, filetype, win_size, sample_winsize = 51):\n",
    "\t\"\"\"\n",
    "\t:param filename: sample image\n",
    "\t:param filetype: type of image\n",
    "\t:param win_size: size of synthesis window\n",
    "\t:return: save figures to png file.\n",
    "\t\"\"\"\n",
    "\t# read sample image\n",
    "\tt = time.time()\n",
    "\timg_sample0 = io.imread(os.getcwd() + '/Assignment-II-images/' + filename + filetype)\n",
    "\tif filetype == '.jpg':\n",
    "\t\timg_sample0 = color.rgb2gray(img_sample0) # rgb to gray level\n",
    "\timg_sample = img_as_float(img_sample0)\n",
    "\timg2bfilled = np.copy(img_sample)\n",
    "\tfilled_status = img_sample != 0\n",
    "\n",
    "\t# inpainting\n",
    "\timg_new = GrowImage(img_sample, img2bfilled, filled_status, win_size, sample_winsize)\n",
    "\telapsed = time.time() - t\n",
    "\tprint 'Total runtime is ',elapsed\n",
    "\n",
    "\t# show and save image\n",
    "\tplt.imshow(img2bfilled,cmap = 'gray')\n",
    "\tplt.title('Initial patch')\n",
    "\tplt.show()\n",
    "\tplt.imshow(img_sample,'gray')\n",
    "\tplt.title('sample image')\n",
    "\tplt.show()\n",
    "\tplt.imshow(img_new,'gray')\n",
    "\tplt.title('inpainted image for %s with windowsize %d' %(filename,win_size))\n",
    "\tplt.savefig('Inpainting_%s_size_%d.png' %(filename,win_size))\n",
    "\tplt.show()\n",
    "\n",
    "\n",
    "\n",
    "def GrowImage(sample_img, img2bfilled, filled_status, win_size, sample_winsize):\n",
    "\tMaxErrThreshold = 0.3\n",
    "\tct = 0\n",
    "# \tpdb.set_trace()\n",
    "\twhile not filled_status.all():\n",
    "\t\tprint 'filled pixels is ', ct\n",
    "\t\tprogress = 0\n",
    "\t\trow_idxs, col_idxs = GetUnfilledNeighbors(filled_status, win_size)\n",
    "\t\tfor ridx, colidx in zip(row_idxs, col_idxs):\n",
    "\t\t\ttemplate, validmask_tmp = GetNeighborhoodWindow(ridx, colidx, img2bfilled, filled_status, win_size)\n",
    "\t\t\tsample_imgrange, sam_filled_status = GetNeighborhoodWindow(ridx, colidx, img2bfilled, filled_status, sample_winsize)\n",
    "\t\t\tBMs_list,BMs_ssd, BMs_pixels= FindMatches(template, sample_imgrange, sam_filled_status, validmask_tmp, win_size, sample_winsize)\n",
    "\t\t\tBM_loc,BM_ssd,BM_value = RandomPick(BMs_list, BMs_ssd, BMs_pixels)\n",
    "\t\t\t# filled if BM_ssd is smaller than MaxErrThreshold\n",
    "\t\t\tif BM_ssd < MaxErrThreshold:\n",
    "\t\t\t\timg2bfilled[ridx, colidx] = BM_value\n",
    "\t\t\t\tprogress = 1\n",
    "\t\t\t\tfilled_status[ridx, colidx] = True\n",
    "\t\t\t\tct+=1\n",
    "\t\t# pdb.set_trace()\n",
    "# \t\tplt.imshow(img2bfilled, cmap='gray')\n",
    "# \t\tplt.show()\n",
    "\t\tif progress == 0:\n",
    "\t\t\tMaxErrThreshold *= 1.1\n",
    "\t\t\tprint 'increase Max error threshold to', MaxErrThreshold\n",
    "\treturn img2bfilled\n",
    "\n",
    "\n",
    "\n",
    "## GetUnfilledNeighbors\n",
    "def GetUnfilledNeighbors(filled_status, win_size):\n",
    "\tsubs_image = morphology.dilation(filled_status) - filled_status\n",
    "\t#     pdb.set_trace()\n",
    "\t[row_idxs, col_idxs] = np.where(subs_image != 0)\n",
    "\t# random permutation\n",
    "\trandidx = np.random.permutation(len(row_idxs))\n",
    "\trow_idxs = [row_idxs[idx] for idx in randidx]\n",
    "\tcol_idxs = [col_idxs[idx] for idx in randidx]\n",
    "\t# sorted by decreasing number of filled neighbor pixels\n",
    "\tfilledsum = scipy.ndimage.generic_filter((filled_status!=0).astype('double'), np.sum, win_size)\n",
    "\t#     pdb.set_trace()\n",
    "\t# filled sum for the boundary points in row_idxs,col_idxs\n",
    "\tfilledsum_bs = [filledsum[x, y] for x, y in zip(row_idxs, col_idxs)]\n",
    "\t#     pdb.set_trace()\n",
    "\tsorted_idx = np.array(filledsum_bs).argsort()[::-1]\n",
    "\tres_row = [row_idxs[i] for i in sorted_idx]\n",
    "\tres_col = [col_idxs[i] for i in sorted_idx]\n",
    "\treturn res_row, res_col\n",
    "\n",
    "## GetNeighborhoodWindow\n",
    "def GetNeighborhoodWindow(ridx, colidx, img2bfilled,filled_status, win_size):\n",
    "\thalf_win_size = win_size / 2\n",
    "\trow_range = range(ridx - half_win_size, ridx + half_win_size + 1)\n",
    "\tcol_range = range(colidx - half_win_size, colidx + half_win_size + 1)\n",
    "\ttemplate = np.zeros((win_size, win_size))\n",
    "\ttemplate_filled_status = np.ones((win_size, win_size)) == False\n",
    "\t# row,column range in the img2bfilled\n",
    "\tif row_range[0]>=0 and col_range[0]>=0 and row_range[-1] < img2bfilled.shape[0] and col_range[-1] < img2bfilled.shape[1]:\n",
    "\t\ttemplate = img2bfilled[row_range[0]:row_range[-1]+1,col_range[0]:col_range[-1]+1]\n",
    "\t\ttemplate_filled_status = filled_status[row_range[0]:row_range[-1]+1,col_range[0]:col_range[-1]+1]\n",
    "\telse:\n",
    "\t\tminr_img2f = max(0, ridx - half_win_size)\n",
    "\t\tmaxr_img2f = min(img2bfilled.shape[0], ridx + half_win_size + 1)\n",
    "\t\tminc_img2f = max(0, colidx - half_win_size)\n",
    "\t\tmaxc_img2f = min(img2bfilled.shape[1], colidx + half_win_size + 1)\n",
    "\t\ttemplate[minr_img2f-ridx+half_win_size : maxr_img2f-ridx+half_win_size,\n",
    "\t\tminc_img2f-colidx+half_win_size : maxc_img2f-colidx+half_win_size] = img2bfilled[minr_img2f : maxr_img2f, minc_img2f:maxc_img2f]\n",
    "\t\ttemplate_filled_status[minr_img2f-ridx+half_win_size:maxr_img2f-ridx+half_win_size,\n",
    "\t\tminc_img2f-colidx+half_win_size : maxc_img2f-colidx+half_win_size] = filled_status[minr_img2f : maxr_img2f, minc_img2f:maxc_img2f]\n",
    "\n",
    "\treturn template, template_filled_status\n",
    "\n",
    "## Find Matches, return locations, corresponding ssd (in 1d), and corresponding pixel value\n",
    "def FindMatches(template, sample_range, sam_filled_status, ValidMask_tmp, win_size, sample_winsize):\n",
    "\tSigma = win_size / 6.4\n",
    "\tErrThreshold = 0.1\n",
    "\t## define sample_img, location in terms of (ridx,colidx)\n",
    "\tpatches_list = sfe.image.extract_patches_2d(sample_range, (win_size,win_size))# array, shape = (n_patches, patch_heidth)\n",
    "\tvalidmask_list = sfe.image.extract_patches_2d(sam_filled_status, (win_size,win_size))\n",
    "\tpatches_nonzero = patches_list[np.sum(validmask_list,(1,2))==win_size*win_size]\n",
    "\tGaussMask = gkern(win_size, Sigma)\n",
    "\tmask_raw = ValidMask_tmp * GaussMask\n",
    "\tmask_normalized = mask_raw/mask_raw.sum()\n",
    "\tdist_filter = (patches_nonzero - template)**2*mask_normalized\n",
    "\tSSD = np.asarray([d.sum() for d in dist_filter])\n",
    "\tthr = np.nanmin(SSD) * (1 + ErrThreshold)\n",
    "\tres_loc_1d, = np.where(SSD<=thr) # location in 1d\n",
    "\tres_ssd_1d = SSD[res_loc_1d]  # ssd in those locations\n",
    "\t# pdb.set_trace()\n",
    "\tres_pixelvalues = patches_nonzero[res_loc_1d,win_size/2,win_size/2]\n",
    "\treturn res_loc_1d,res_ssd_1d,res_pixelvalues\n",
    "\n",
    "def gkern(size, sigma=3.0, center=None):\n",
    "\t\"\"\" Make a square gaussian kernel.\n",
    "\n",
    "    size is the length of a side of the square\n",
    "    sigma is standard deviation\n",
    "    can be thought of as an effective radius.\n",
    "    \"\"\"\n",
    "\n",
    "\tx = np.arange(0, size, 1, float)\n",
    "\ty = x[:, np.newaxis]\n",
    "\n",
    "\tif center is None:\n",
    "\t\tx0 = y0 = size // 2\n",
    "\telse:\n",
    "\t\tx0 = center[0]\n",
    "\t\ty0 = center[1]\n",
    "\traw_res = 1/(2*np.pi*sigma**2)*np.exp(-((x - x0) ** 2 + (y - y0) ** 2) / (2*sigma ** 2))\n",
    "\treturn raw_res/raw_res.sum()\n",
    "\n",
    "def RandomPick(BMs_list,BMs_ssd,BMs_pixel):\n",
    "\t## return the location,ssd and pixel value of the best match randomly from the candidates lists\n",
    "\trand_idx = np.random.randint(0, len(BMs_list))\n",
    "\treturn BMs_list[rand_idx],BMs_ssd[rand_idx],BMs_pixel[rand_idx]\n",
    "\n",
    "\n",
    "\n"
   ]
  },
  {
   "cell_type": "code",
   "execution_count": 9,
   "metadata": {
    "collapsed": false
   },
   "outputs": [
    {
     "name": "stdout",
     "output_type": "stream",
     "text": [
      "1.0\n",
      "0.261089288742\n"
     ]
    }
   ],
   "source": [
    "## 2.2.2 image inpainting\n",
    "filenames2 = ['test_im1','test_im2']\n",
    "winsizes = [5,9,11,19]\n",
    "for fn2 in filenames2:\n",
    "    for ws in winsizes:\n",
    "        inpainting(fn2, '.bmp', ws, 61)\n"
   ]
  },
  {
   "cell_type": "code",
   "execution_count": 8,
   "metadata": {
    "collapsed": false
   },
   "outputs": [
    {
     "name": "stdout",
     "output_type": "stream",
     "text": [
<<<<<<< HEAD
<<<<<<< HEAD
      "filled pixels is  0\n",
      "filled pixels is  440\n",
      "filled pixels is  794\n",
      "filled pixels is  1140\n",
      "filled pixels is  1478\n",
      "filled pixels is  1808\n",
      "filled pixels is  2130\n",
      "filled pixels is  2444\n",
      "filled pixels is  2750\n",
      "filled pixels is  3048\n",
      "filled pixels is  3338\n",
      "filled pixels is  3620\n",
      "filled pixels is  3894\n",
      "filled pixels is  4160\n",
      "filled pixels is  4418\n",
      "filled pixels is  4668\n",
      "filled pixels is  4910\n",
      "filled pixels is  5144\n",
      "filled pixels is  5370\n",
      "filled pixels is  5588\n",
      "filled pixels is  5798\n",
      "filled pixels is  6000\n",
      "Total runtime is  684.627146959\n",
      "filled pixels is "
=======
=======
>>>>>>> origin/master
      "filled pixels is  0\n"
     ]
    },
    {
     "name": "stderr",
     "output_type": "stream",
     "text": [
      "/anaconda/lib/python2.7/site-packages/ipykernel/__main__.py:90: DeprecationWarning: numpy boolean subtract, the `-` operator, is deprecated, use the bitwise_xor, the `^` operator, or the logical_xor function instead.\n"
     ]
    },
    {
     "name": "stdout",
     "output_type": "stream",
     "text": [
      "filled pixels is  440\n",
      "filled pixels is  794\n"
     ]
    },
    {
     "ename": "KeyboardInterrupt",
     "evalue": "",
     "output_type": "error",
     "traceback": [
      "\u001b[0;31m---------------------------------------------------------------------------\u001b[0m",
      "\u001b[0;31mKeyboardInterrupt\u001b[0m                         Traceback (most recent call last)",
      "\u001b[0;32m<ipython-input-8-76f0e8ac8ea3>\u001b[0m in \u001b[0;36m<module>\u001b[0;34m()\u001b[0m\n\u001b[1;32m      4\u001b[0m \u001b[0;32mfor\u001b[0m \u001b[0mfn3\u001b[0m \u001b[0;32min\u001b[0m \u001b[0mfilename3\u001b[0m\u001b[0;34m:\u001b[0m\u001b[0;34m\u001b[0m\u001b[0m\n\u001b[1;32m      5\u001b[0m     \u001b[0;32mfor\u001b[0m \u001b[0mws\u001b[0m \u001b[0;32min\u001b[0m \u001b[0mwinsizes\u001b[0m\u001b[0;34m:\u001b[0m\u001b[0;34m\u001b[0m\u001b[0m\n\u001b[0;32m----> 6\u001b[0;31m         \u001b[0minpainting\u001b[0m\u001b[0;34m(\u001b[0m\u001b[0mfn3\u001b[0m\u001b[0;34m,\u001b[0m\u001b[0;34m'.jpg'\u001b[0m\u001b[0;34m,\u001b[0m\u001b[0mws\u001b[0m\u001b[0;34m,\u001b[0m\u001b[0;36m261\u001b[0m\u001b[0;34m)\u001b[0m\u001b[0;34m\u001b[0m\u001b[0m\n\u001b[0m",
      "\u001b[0;32m<ipython-input-6-10a274056fbb>\u001b[0m in \u001b[0;36minpainting\u001b[0;34m(filename, filetype, win_size, sample_winsize)\u001b[0m\n\u001b[1;32m     39\u001b[0m \u001b[0;34m\u001b[0m\u001b[0m\n\u001b[1;32m     40\u001b[0m         \u001b[0;31m# inpainting\u001b[0m\u001b[0;34m\u001b[0m\u001b[0;34m\u001b[0m\u001b[0m\n\u001b[0;32m---> 41\u001b[0;31m         \u001b[0mimg_new\u001b[0m \u001b[0;34m=\u001b[0m \u001b[0mGrowImage\u001b[0m\u001b[0;34m(\u001b[0m\u001b[0mimg_sample\u001b[0m\u001b[0;34m,\u001b[0m \u001b[0mimg2bfilled\u001b[0m\u001b[0;34m,\u001b[0m \u001b[0mfilled_status\u001b[0m\u001b[0;34m,\u001b[0m \u001b[0mwin_size\u001b[0m\u001b[0;34m,\u001b[0m \u001b[0msample_winsize\u001b[0m\u001b[0;34m)\u001b[0m\u001b[0;34m\u001b[0m\u001b[0m\n\u001b[0m\u001b[1;32m     42\u001b[0m         \u001b[0melapsed\u001b[0m \u001b[0;34m=\u001b[0m \u001b[0mtime\u001b[0m\u001b[0;34m.\u001b[0m\u001b[0mtime\u001b[0m\u001b[0;34m(\u001b[0m\u001b[0;34m)\u001b[0m \u001b[0;34m-\u001b[0m \u001b[0mt\u001b[0m\u001b[0;34m\u001b[0m\u001b[0m\n\u001b[1;32m     43\u001b[0m         \u001b[0;32mprint\u001b[0m \u001b[0;34m'Total runtime is '\u001b[0m\u001b[0;34m,\u001b[0m\u001b[0melapsed\u001b[0m\u001b[0;34m\u001b[0m\u001b[0m\n",
      "\u001b[0;32m<ipython-input-6-10a274056fbb>\u001b[0m in \u001b[0;36mGrowImage\u001b[0;34m(sample_img, img2bfilled, filled_status, win_size, sample_winsize)\u001b[0m\n\u001b[1;32m     68\u001b[0m                         \u001b[0mtemplate\u001b[0m\u001b[0;34m,\u001b[0m \u001b[0mvalidmask_tmp\u001b[0m \u001b[0;34m=\u001b[0m \u001b[0mGetNeighborhoodWindow\u001b[0m\u001b[0;34m(\u001b[0m\u001b[0mridx\u001b[0m\u001b[0;34m,\u001b[0m \u001b[0mcolidx\u001b[0m\u001b[0;34m,\u001b[0m \u001b[0mimg2bfilled\u001b[0m\u001b[0;34m,\u001b[0m \u001b[0mfilled_status\u001b[0m\u001b[0;34m,\u001b[0m \u001b[0mwin_size\u001b[0m\u001b[0;34m)\u001b[0m\u001b[0;34m\u001b[0m\u001b[0m\n\u001b[1;32m     69\u001b[0m                         \u001b[0msample_imgrange\u001b[0m\u001b[0;34m,\u001b[0m \u001b[0msam_filled_status\u001b[0m \u001b[0;34m=\u001b[0m \u001b[0mGetNeighborhoodWindow\u001b[0m\u001b[0;34m(\u001b[0m\u001b[0mridx\u001b[0m\u001b[0;34m,\u001b[0m \u001b[0mcolidx\u001b[0m\u001b[0;34m,\u001b[0m \u001b[0mimg2bfilled\u001b[0m\u001b[0;34m,\u001b[0m \u001b[0mfilled_status\u001b[0m\u001b[0;34m,\u001b[0m \u001b[0msample_winsize\u001b[0m\u001b[0;34m)\u001b[0m\u001b[0;34m\u001b[0m\u001b[0m\n\u001b[0;32m---> 70\u001b[0;31m                         \u001b[0mBMs_list\u001b[0m\u001b[0;34m,\u001b[0m\u001b[0mBMs_ssd\u001b[0m\u001b[0;34m,\u001b[0m \u001b[0mBMs_pixels\u001b[0m\u001b[0;34m=\u001b[0m \u001b[0mFindMatches\u001b[0m\u001b[0;34m(\u001b[0m\u001b[0mtemplate\u001b[0m\u001b[0;34m,\u001b[0m \u001b[0msample_imgrange\u001b[0m\u001b[0;34m,\u001b[0m \u001b[0msam_filled_status\u001b[0m\u001b[0;34m,\u001b[0m \u001b[0mvalidmask_tmp\u001b[0m\u001b[0;34m,\u001b[0m \u001b[0mwin_size\u001b[0m\u001b[0;34m,\u001b[0m \u001b[0msample_winsize\u001b[0m\u001b[0;34m)\u001b[0m\u001b[0;34m\u001b[0m\u001b[0m\n\u001b[0m\u001b[1;32m     71\u001b[0m                         \u001b[0mBM_loc\u001b[0m\u001b[0;34m,\u001b[0m\u001b[0mBM_ssd\u001b[0m\u001b[0;34m,\u001b[0m\u001b[0mBM_value\u001b[0m \u001b[0;34m=\u001b[0m \u001b[0mRandomPick\u001b[0m\u001b[0;34m(\u001b[0m\u001b[0mBMs_list\u001b[0m\u001b[0;34m,\u001b[0m \u001b[0mBMs_ssd\u001b[0m\u001b[0;34m,\u001b[0m \u001b[0mBMs_pixels\u001b[0m\u001b[0;34m)\u001b[0m\u001b[0;34m\u001b[0m\u001b[0m\n\u001b[1;32m     72\u001b[0m                         \u001b[0;31m# filled if BM_ssd is smaller than MaxErrThreshold\u001b[0m\u001b[0;34m\u001b[0m\u001b[0;34m\u001b[0m\u001b[0m\n",
      "\u001b[0;32m<ipython-input-6-10a274056fbb>\u001b[0m in \u001b[0;36mFindMatches\u001b[0;34m(template, sample_range, sam_filled_status, ValidMask_tmp, win_size, sample_winsize)\u001b[0m\n\u001b[1;32m    141\u001b[0m         \u001b[0mmask_normalized\u001b[0m \u001b[0;34m=\u001b[0m \u001b[0mmask_raw\u001b[0m\u001b[0;34m/\u001b[0m\u001b[0mmask_raw\u001b[0m\u001b[0;34m.\u001b[0m\u001b[0msum\u001b[0m\u001b[0;34m(\u001b[0m\u001b[0;34m)\u001b[0m\u001b[0;34m\u001b[0m\u001b[0m\n\u001b[1;32m    142\u001b[0m         \u001b[0mdist_filter\u001b[0m \u001b[0;34m=\u001b[0m \u001b[0;34m(\u001b[0m\u001b[0mpatches_nonzero\u001b[0m \u001b[0;34m-\u001b[0m \u001b[0mtemplate\u001b[0m\u001b[0;34m)\u001b[0m\u001b[0;34m**\u001b[0m\u001b[0;36m2\u001b[0m\u001b[0;34m*\u001b[0m\u001b[0mmask_normalized\u001b[0m\u001b[0;34m\u001b[0m\u001b[0m\n\u001b[0;32m--> 143\u001b[0;31m         \u001b[0mSSD\u001b[0m \u001b[0;34m=\u001b[0m \u001b[0mnp\u001b[0m\u001b[0;34m.\u001b[0m\u001b[0masarray\u001b[0m\u001b[0;34m(\u001b[0m\u001b[0;34m[\u001b[0m\u001b[0md\u001b[0m\u001b[0;34m.\u001b[0m\u001b[0msum\u001b[0m\u001b[0;34m(\u001b[0m\u001b[0;34m)\u001b[0m \u001b[0;32mfor\u001b[0m \u001b[0md\u001b[0m \u001b[0;32min\u001b[0m \u001b[0mdist_filter\u001b[0m\u001b[0;34m]\u001b[0m\u001b[0;34m)\u001b[0m\u001b[0;34m\u001b[0m\u001b[0m\n\u001b[0m\u001b[1;32m    144\u001b[0m         \u001b[0mthr\u001b[0m \u001b[0;34m=\u001b[0m \u001b[0mnp\u001b[0m\u001b[0;34m.\u001b[0m\u001b[0mnanmin\u001b[0m\u001b[0;34m(\u001b[0m\u001b[0mSSD\u001b[0m\u001b[0;34m)\u001b[0m \u001b[0;34m*\u001b[0m \u001b[0;34m(\u001b[0m\u001b[0;36m1\u001b[0m \u001b[0;34m+\u001b[0m \u001b[0mErrThreshold\u001b[0m\u001b[0;34m)\u001b[0m\u001b[0;34m\u001b[0m\u001b[0m\n\u001b[1;32m    145\u001b[0m         \u001b[0mres_loc_1d\u001b[0m\u001b[0;34m,\u001b[0m \u001b[0;34m=\u001b[0m \u001b[0mnp\u001b[0m\u001b[0;34m.\u001b[0m\u001b[0mwhere\u001b[0m\u001b[0;34m(\u001b[0m\u001b[0mSSD\u001b[0m\u001b[0;34m<=\u001b[0m\u001b[0mthr\u001b[0m\u001b[0;34m)\u001b[0m \u001b[0;31m# location in 1d\u001b[0m\u001b[0;34m\u001b[0m\u001b[0m\n",
      "\u001b[0;32m//anaconda/lib/python2.7/site-packages/numpy/core/_methods.pyc\u001b[0m in \u001b[0;36m_sum\u001b[0;34m(a, axis, dtype, out, keepdims)\u001b[0m\n\u001b[1;32m     30\u001b[0m \u001b[0;34m\u001b[0m\u001b[0m\n\u001b[1;32m     31\u001b[0m \u001b[0;32mdef\u001b[0m \u001b[0m_sum\u001b[0m\u001b[0;34m(\u001b[0m\u001b[0ma\u001b[0m\u001b[0;34m,\u001b[0m \u001b[0maxis\u001b[0m\u001b[0;34m=\u001b[0m\u001b[0mNone\u001b[0m\u001b[0;34m,\u001b[0m \u001b[0mdtype\u001b[0m\u001b[0;34m=\u001b[0m\u001b[0mNone\u001b[0m\u001b[0;34m,\u001b[0m \u001b[0mout\u001b[0m\u001b[0;34m=\u001b[0m\u001b[0mNone\u001b[0m\u001b[0;34m,\u001b[0m \u001b[0mkeepdims\u001b[0m\u001b[0;34m=\u001b[0m\u001b[0mFalse\u001b[0m\u001b[0;34m)\u001b[0m\u001b[0;34m:\u001b[0m\u001b[0;34m\u001b[0m\u001b[0m\n\u001b[0;32m---> 32\u001b[0;31m     \u001b[0;32mreturn\u001b[0m \u001b[0mumr_sum\u001b[0m\u001b[0;34m(\u001b[0m\u001b[0ma\u001b[0m\u001b[0;34m,\u001b[0m \u001b[0maxis\u001b[0m\u001b[0;34m,\u001b[0m \u001b[0mdtype\u001b[0m\u001b[0;34m,\u001b[0m \u001b[0mout\u001b[0m\u001b[0;34m,\u001b[0m \u001b[0mkeepdims\u001b[0m\u001b[0;34m)\u001b[0m\u001b[0;34m\u001b[0m\u001b[0m\n\u001b[0m\u001b[1;32m     33\u001b[0m \u001b[0;34m\u001b[0m\u001b[0m\n\u001b[1;32m     34\u001b[0m \u001b[0;32mdef\u001b[0m \u001b[0m_prod\u001b[0m\u001b[0;34m(\u001b[0m\u001b[0ma\u001b[0m\u001b[0;34m,\u001b[0m \u001b[0maxis\u001b[0m\u001b[0;34m=\u001b[0m\u001b[0mNone\u001b[0m\u001b[0;34m,\u001b[0m \u001b[0mdtype\u001b[0m\u001b[0;34m=\u001b[0m\u001b[0mNone\u001b[0m\u001b[0;34m,\u001b[0m \u001b[0mout\u001b[0m\u001b[0;34m=\u001b[0m\u001b[0mNone\u001b[0m\u001b[0;34m,\u001b[0m \u001b[0mkeepdims\u001b[0m\u001b[0;34m=\u001b[0m\u001b[0mFalse\u001b[0m\u001b[0;34m)\u001b[0m\u001b[0;34m:\u001b[0m\u001b[0;34m\u001b[0m\u001b[0m\n",
      "\u001b[0;31mKeyboardInterrupt\u001b[0m: "
<<<<<<< HEAD
>>>>>>> origin/master
=======
>>>>>>> origin/master
     ]
    }
   ],
   "source": [
    "## 2.2.3 image inpainting for test_im3\n",
    "filename3 = ['test_im3_inpainting1','test_im3_inpainting2','test_im3_inpainting3']\n",
    "winsizes = [9,15]\n",
    "for fn3 in filename3:\n",
    "    for ws in winsizes:\n",
    "        inpainting(fn3,'.jpg',ws,201)"
   ]
  },
  {
   "cell_type": "code",
   "execution_count": null,
   "metadata": {
    "collapsed": true
   },
   "outputs": [],
   "source": []
  }
 ],
 "metadata": {
  "kernelspec": {
   "display_name": "Python 2",
   "language": "python",
   "name": "python2"
  },
  "language_info": {
   "codemirror_mode": {
    "name": "ipython",
    "version": 2
   },
   "file_extension": ".py",
   "mimetype": "text/x-python",
   "name": "python",
   "nbconvert_exporter": "python",
   "pygments_lexer": "ipython2",
   "version": "2.7.13"
  }
 },
 "nbformat": 4,
 "nbformat_minor": 0
}
