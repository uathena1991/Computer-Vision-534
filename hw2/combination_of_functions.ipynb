{
 "cells": [
  {
   "cell_type": "code",
   "execution_count": 84,
   "metadata": {
    "collapsed": false
   },
   "outputs": [
    {
     "name": "stdout",
     "output_type": "stream",
     "text": [
      "Populating the interactive namespace from numpy and matplotlib\n"
     ]
    }
   ],
   "source": [
    "# %reset \n",
    "import numpy as np\n",
    "import scipy\n",
    "from skimage import morphology\n",
    "import matplotlib.pyplot as plt\n",
    "import os\n",
    "import sys\n",
    "sys.path.append(\"/Users/xiaolihe/Documents/Computer-Vision-534/hw2\")\n",
    "import pdb\n",
    "%pylab inline"
   ]
  },
  {
   "cell_type": "code",
   "execution_count": null,
   "metadata": {
    "collapsed": false
   },
   "outputs": [],
   "source": []
  },
  {
   "cell_type": "code",
   "execution_count": null,
   "metadata": {
    "collapsed": false
   },
   "outputs": [
    {
     "name": "stderr",
     "output_type": "stream",
     "text": [
      "/anaconda/lib/python2.7/site-packages/ipykernel/__main__.py:12: VisibleDeprecationWarning: using a non-integer number instead of an integer will result in an error in the future\n"
     ]
    },
    {
     "name": "stdout",
     "output_type": "stream",
     "text": [
      "> <ipython-input-390-7e0c4ab38da9>(98)FindMatches()\n",
      "-> curr_path = SampleImage[i-winsize/2:i+winsize/2, j-winsize/2:j+winsize/2]\n",
      "(Pdb) zip(range(winsize/2, sample_r - winsize/2-1), range(winsize/2, sample_c - winsize/2-1))\n",
      "[(5, 5), (6, 6), (7, 7), (8, 8), (9, 9), (10, 10), (11, 11), (12, 12), (13, 13), (14, 14), (15, 15), (16, 16), (17, 17), (18, 18), (19, 19), (20, 20), (21, 21), (22, 22), (23, 23), (24, 24), (25, 25), (26, 26), (27, 27), (28, 28), (29, 29), (30, 30), (31, 31), (32, 32), (33, 33), (34, 34), (35, 35), (36, 36), (37, 37), (38, 38), (39, 39), (40, 40), (41, 41), (42, 42), (43, 43), (44, 44), (45, 45), (46, 46), (47, 47), (48, 48), (49, 49), (50, 50), (51, 51), (52, 52), (53, 53), (54, 54), (55, 55), (56, 56), (57, 57), (58, 58)]\n",
      "(Pdb) n\n",
      "> <ipython-input-390-7e0c4ab38da9>(99)FindMatches()\n",
      "-> dist = (Template-curr_path)**2\n",
      "(Pdb) curr_path\n",
      "array([[ 95,  97,  97, 101, 100, 113, 172, 118,  74,  90],\n",
      "       [ 96, 100, 101,  97,  99, 109, 168, 113,  73,  87],\n",
      "       [102,  99,  98,  99, 101, 106, 171, 118,  71,  88],\n",
      "       [ 92, 100, 108, 103, 104, 105, 172, 111,  77,  88],\n",
      "       [100, 103, 100, 102, 110, 116, 171, 108,  78,  88],\n",
      "       [ 86,  90,  85,  86, 100, 114, 161,  99,  72,  80],\n",
      "       [ 76,  76,  81,  85, 105, 132, 164,  94,  76,  67],\n",
      "       [ 69,  75,  71,  80,  92, 112, 145,  94,  72,  73],\n",
      "       [ 75,  79,  78,  73,  77,  92, 157,  95,  71,  71],\n",
      "       [ 90,  86,  88,  89,  88, 100, 161,  93,  67,  81]], dtype=uint8)\n",
      "(Pdb) n\n",
      "> <ipython-input-390-7e0c4ab38da9>(100)FindMatches()\n",
      "-> SSD[i,j] += np.multiply(dist, mask_normalized).sum()\n",
      "(Pdb) dist\n",
      "array([[  9025.,   9409.,   9409.,  10201.,  10000.,  12769.,  29584.,\n",
      "         13924.,   5476.,   8100.],\n",
      "       [  9216.,  10000.,  10201.,   9409.,   9801.,  11881.,  28224.,\n",
      "         12769.,   5329.,   7569.],\n",
      "       [ 10404.,   9801.,   9604.,   9801.,  10201.,  11236.,  29241.,\n",
      "         13924.,   5041.,   7744.],\n",
      "       [  8464.,  10000.,  11664.,  10609.,   4761.,    289.,  10201.,\n",
      "         12321.,   5929.,   7744.],\n",
      "       [ 10000.,  10609.,  10000.,  10404.,   3249.,    484.,  11025.,\n",
      "         11664.,   6084.,   7744.],\n",
      "       [  7396.,   8100.,   7225.,   7396.,   4761.,    484.,   8464.,\n",
      "          9801.,   5184.,   6400.],\n",
      "       [  5776.,   5776.,   6561.,   7225.,  11025.,  17424.,  26896.,\n",
      "          8836.,   5776.,   4489.],\n",
      "       [  4761.,   5625.,   5041.,   6400.,   8464.,  12544.,  21025.,\n",
      "          8836.,   5184.,   5329.],\n",
      "       [  5625.,   6241.,   6084.,   5329.,   5929.,   8464.,  24649.,\n",
      "          9025.,   5041.,   5041.],\n",
      "       [  8100.,   7396.,   7744.,   7921.,   7744.,  10000.,  25921.,\n",
      "          8649.,   4489.,   6561.]])\n",
      "(Pdb) dist.shape\n",
      "(10, 10)\n",
      "(Pdb) n\n",
      "> <ipython-input-390-7e0c4ab38da9>(96)FindMatches()\n",
      "-> for i,j in zip(range(winsize/2, sample_r - winsize/2-1), range(winsize/2, sample_c - winsize/2-1)): # for each patch in SampleImage\n",
      "(Pdb) SSD\n",
      "array([[ 0.,  0.,  0., ...,  0.,  0.,  0.],\n",
      "       [ 0.,  0.,  0., ...,  0.,  0.,  0.],\n",
      "       [ 0.,  0.,  0., ...,  0.,  0.,  0.],\n",
      "       ..., \n",
      "       [ 0.,  0.,  0., ...,  0.,  0.,  0.],\n",
      "       [ 0.,  0.,  0., ...,  0.,  0.,  0.],\n",
      "       [ 0.,  0.,  0., ...,  0.,  0.,  0.]])\n",
      "(Pdb) SSD.max()\n",
      "5952.7615196432444\n",
      "(Pdb) n\n",
      "> <ipython-input-390-7e0c4ab38da9>(97)FindMatches()\n",
      "-> pdb.set_trace()\n",
      "(Pdb) i,j\n",
      "(6, 6)\n",
      "(Pdb) n\n",
      "> <ipython-input-390-7e0c4ab38da9>(98)FindMatches()\n",
      "-> curr_path = SampleImage[i-winsize/2:i+winsize/2, j-winsize/2:j+winsize/2]\n",
      "(Pdb) n\n",
      "> <ipython-input-390-7e0c4ab38da9>(99)FindMatches()\n",
      "-> dist = (Template-curr_path)**2\n",
      "(Pdb) n\n",
      "> <ipython-input-390-7e0c4ab38da9>(100)FindMatches()\n",
      "-> SSD[i,j] += np.multiply(dist, mask_normalized).sum()\n",
      "(Pdb) n\n",
      "> <ipython-input-390-7e0c4ab38da9>(96)FindMatches()\n",
      "-> for i,j in zip(range(winsize/2, sample_r - winsize/2-1), range(winsize/2, sample_c - winsize/2-1)): # for each patch in SampleImage\n",
      "(Pdb) n\n",
      "> <ipython-input-390-7e0c4ab38da9>(97)FindMatches()\n",
      "-> pdb.set_trace()\n",
      "(Pdb) n\n",
      "> <ipython-input-390-7e0c4ab38da9>(98)FindMatches()\n",
      "-> curr_path = SampleImage[i-winsize/2:i+winsize/2, j-winsize/2:j+winsize/2]\n",
      "(Pdb) c\n",
      "> <ipython-input-390-7e0c4ab38da9>(97)FindMatches()\n",
      "-> pdb.set_trace()\n",
      "(Pdb) i,j\n",
      "(8, 8)\n",
      "(Pdb) c\n",
      "> <ipython-input-390-7e0c4ab38da9>(98)FindMatches()\n",
      "-> curr_path = SampleImage[i-winsize/2:i+winsize/2, j-winsize/2:j+winsize/2]\n",
      "(Pdb) i,j\n",
      "(9, 9)\n"
     ]
    }
   ],
   "source": [
    "## growimage \n",
    "def synthesize(filename,winsize,shape_newimage,shape_seed = (3,3)):\n",
    "    # read sample image\n",
    "    img_sample = io.imread(os.getcwd()+'/Documents/Computer-Vision-534/hw2/Assignment-II-images/'+filename)\n",
    "#     subs_image = morphology.dilation(img_sample) - img_sample\n",
    "#     plt.imshow(subs_image);\n",
    "#     find(subs_image)\n",
    "    \n",
    "    # initialize img2bfilled with a random sample from sample image (size: shape_seed) \n",
    "    randrow = round(rand()*(img_sample.shape[0]-shape_seed[0]))\n",
    "    randcol = round(rand()*(img_sample.shape[1]-shape_seed[1]))\n",
    "    seed_img = img_sample[randrow : randrow + shape_seed[0], randcol : randcol + shape_seed[1]]\n",
    "    #(left-up corner is the center of img2bfilled)\n",
    "#     range_in_img2bfilled = (shape_newimage[0]/2 : (shape_newimage[0]/2 + shape_seed[0]),\n",
    "#                 shape_newimage[1]/2 : (shape_newimage[1]/2 + shape_seed[1]))\n",
    "    img2bfilled = np.zeros(shape_newimage)\n",
    "    img2bfilled[shape_newimage[0]/2 : (shape_newimage[0]/2 + shape_seed[0]),\n",
    "                shape_newimage[1]/2 : (shape_newimage[1]/2 + shape_seed[1])] = seed_img \n",
    "    filled_status = np.ones(shape_newimage) == False\n",
    "    filled_status[shape_newimage[0]/2 : (shape_newimage[0]/2 + shape_seed[0]),\n",
    "                shape_newimage[1]/2 : (shape_newimage[1]/2 + shape_seed[1])] = True\n",
    "    \n",
    "    # Synthesis\n",
    "    img_new = GrowImage(img_sample,img2bfilled,filled_status, winsize)\n",
    "\n",
    "    # show image\n",
    "    plt.imshow(img_sample)\n",
    "    plt.title('sample image')\n",
    "    plt.show()\n",
    "    plt.imshow(img_new)\n",
    "    plt.title('Sythesized image')\n",
    "    plt.show()\n",
    "    \n",
    "def GrowImage(SampleImage, Image2bfilled, filled_status, winsize):\n",
    "    MaxErrThreshold = 0.3\n",
    "    while not filled_status.all():\n",
    "        progress = 0\n",
    "        row_idxs,col_idxs = GetUnfilledNeighbors(Image2bfilled, winsize)\n",
    "        for ridx,colidx in zip(row_idxs,col_idxs):\n",
    "            Template,validmask = GetNeighborhoodWindow(ridx,colidx,Image2bfilled, filled_status, winsize)\n",
    "            BestMatches_list = FindMatches(Template, SampleImage,validmask,winsize)\n",
    "            BestMatch_loc, BestMatch_error= RandomPick(BestMatches_list)\n",
    "            if BestMatch_error < MaxErrThreshold:\n",
    "                Image2bfilled[ridx,colidx] = SampleImage[BestMatch_loc]\n",
    "                progress = 1\n",
    "                filled_status[ridx,colidx] = True\n",
    "        if progress == 0:\n",
    "            MaxErrThreshold = MaxErrThreshold * 1.1\n",
    "    return Image\n",
    "\n",
    "## GetUnfilledNeighbors\n",
    "def GetUnfilledNeighbors(Image2bfilled, winsize):\n",
    "    subs_image = morphology.dilation(Image2bfilled) - Image2bfilled\n",
    "#     pdb.set_trace()\n",
    "    [row_idxs, col_idxs] = np.where(subs_image!=0)\n",
    "    # random permutation\n",
    "    randidx = np.random.permutation(len(row_idxs))\n",
    "    row_idxs = [row_idxs[idx] for idx in randidx]\n",
    "    col_idxs = [col_idxs[idx] for idx in randidx]\n",
    "    # sorted by decreasing number of filled neighbor pixels\n",
    "    filledsum  = scipy.ndimage.generic_filter(Image2bfilled, np.sum, winsize)\n",
    "#     pdb.set_trace()\n",
    "    filledsum_bs = [filledsum[x,y] for x,y in zip(row_idxs,col_idxs)]\n",
    "#     pdb.set_trace()\n",
    "    sorted_idx = np.array(filledsum_bs).argsort()[::-1]\n",
    "    res_row = [row_idxs[i] for i in sorted_idx]\n",
    "    res_col = [col_idxs[i] for i in sorted_idx]\n",
    "    return res_row, res_col\n",
    "\n",
    "## GetNeighborhoodWindow\n",
    "def GetNeighborhoodWindow(ridx,colidx,Image2bfilled,filled_status, winsize):\n",
    "    half_winsize = winsize/2\n",
    "    row_range = range(ridx - half_winsize,ridx + half_winsize + 1)\n",
    "    col_range = range(colidx - half_winsize,colidx + half_winsize + 1)\n",
    "    template = np.zeros((winsize,winsize))\n",
    "    template_filled_status = np.ones((winsize,winsize)) == False\n",
    "    for r in range(winsize):\n",
    "        for c in range(winsize):\n",
    "            if row_range[r] in range(Image2bfilled.shape[0]) and col_range[c] in range(Image2bfilled.shape[1]):\n",
    "                template[r,c] = Image2bfilled[row_range[r],col_range[c]]\n",
    "                template_filled_status[r,c] = True\n",
    "    return template,template_filled_status\n",
    "    \n",
    "    \n",
    "## Find Matches, return locations, corresponding ssd\n",
    "def FindMatches(Template,SampleImage,ValidMask,winsize):\n",
    "    Sigma = winsize/6.4\n",
    "    ErrThreshold = 0.1\n",
    "    sample_r, sample_c = SampleImage.shape;\n",
    "    \n",
    "    GaussMask = gkern(winsize,Sigma)\n",
    "    maskintotal = np.multiply(ValidMask,GaussMask)\n",
    "    mask_normalized = maskintotal/maskintotal.sum()\n",
    "    SSD = np.zeros(SampleImage.shape)\n",
    "    PixelList = [] # locations of qualified candidates\n",
    "#     for i,j in zip(range(winsize/2, sample_r - winsize/2-1), range(winsize/2, sample_c - winsize/2-1)): # for each patch in SampleImage\n",
    "    for i in range(winsize/2, sample_r - winsize/2-1): # for each patch in SampleImage\n",
    "        for j in range(winsize/2,sample_c- winsize/2-1):\n",
    "#             pdb.set_trace()\n",
    "            curr_patch = SampleImage[i-winsize/2:i+winsize/2, j-winsize/2:j+winsize/2]\n",
    "            dist = (Template-curr_patch)**2\n",
    "            SSD[i,j] += np.multiply(dist, mask_normalized).sum()\n",
    "    \n",
    "    thr = SSD.min()*(1+ErrThreshold)\n",
    "    for i in range(SSD.shape[0]):\n",
    "        for j in range(SSD.shape[1]):\n",
    "            if SSD[i,j] <= thr:\n",
    "                PixelList.append([(i,j),SSD[i,j]])\n",
    "    return PixelList\n",
    "\n",
    "def gkern(size, fwhm = 3, center=None):\n",
    "    \"\"\" Make a square gaussian kernel.\n",
    "\n",
    "    size is the length of a side of the square\n",
    "    fwhm is full-width-half-maximum, which\n",
    "    can be thought of as an effective radius.\n",
    "    \"\"\"\n",
    "\n",
    "    x = np.arange(0, size, 1, float)\n",
    "    y = x[:,np.newaxis]\n",
    "\n",
    "    if center is None:\n",
    "        x0 = y0 = size // 2\n",
    "    else:\n",
    "        x0 = center[0]\n",
    "        y0 = center[1]\n",
    "\n",
    "    return np.exp(-4*np.log(2) * ((x-x0)**2 + (y-y0)**2) / fwhm**2)\n",
    "\n",
    "def RandomPick(BestMatches):\n",
    "    ## return the location of the best match randomly from the candidates lists\n",
    "    return BestMatches[randint(0,len(BestMatches))]\n",
    "\n",
    "\n",
    "synthesize('T1.gif',10,[100,100])"
   ]
  },
  {
   "cell_type": "code",
   "execution_count": 331,
   "metadata": {
    "collapsed": false
   },
   "outputs": [],
   "source": [
    "def makeGaussian(size, fwhm = 3, center=None):\n",
    "    \"\"\" Make a square gaussian kernel.\n",
    "\n",
    "    size is the length of a side of the square\n",
    "    fwhm is full-width-half-maximum, which\n",
    "    can be thought of as an effective radius.\n",
    "    \"\"\"\n",
    "\n",
    "    x = np.arange(0, size, 1, float)\n",
    "    y = x[:,np.newaxis]\n",
    "\n",
    "    if center is None:\n",
    "        x0 = y0 = size // 2\n",
    "    else:\n",
    "        x0 = center[0]\n",
    "        y0 = center[1]\n",
    "\n",
    "    return np.exp(-4*np.log(2) * ((x-x0)**2 + (y-y0)**2) / fwhm**2)"
   ]
  },
  {
   "cell_type": "code",
   "execution_count": 373,
   "metadata": {
    "collapsed": false
   },
   "outputs": [
    {
     "name": "stdout",
     "output_type": "stream",
     "text": [
      "1.01568603516 1.60180664062\n",
      "[[ 0.00390625  0.0625      0.00390625]\n",
      " [ 0.0625      1.          0.0625    ]\n",
      " [ 0.00390625  0.0625      0.00390625]]\n",
      "1.01568603516\n",
      "1.60180664062\n"
     ]
    }
   ],
   "source": [
    "tmp = makeGaussian(3,1)\n",
    "tmp2 = np.multiply(tmp,tmp)\n",
    "tmp3 = scipy.signal.convolve2d(tmp,tmp,mode = 'same')\n",
    "print tmp2.sum(),tmp3.sum()\n",
    "print tmp\n",
    "print tmp2.sum()\n",
    "print tmp3.sum()\n",
    "\n"
   ]
  },
  {
   "cell_type": "code",
   "execution_count": 378,
   "metadata": {
    "collapsed": false
   },
   "outputs": [
    {
     "name": "stdout",
     "output_type": "stream",
     "text": [
      "[[1, 2], [3, 4]] [[1, 2], [3, 4]]\n",
      "[[ 1  4]\n",
      " [ 9 16]]\n",
      "[[ 4 11]\n",
      " [14 30]]\n",
      "[[ 1  4]\n",
      " [ 6 20]]\n"
     ]
    }
   ],
   "source": [
    "a = [[1,2],[3,4]]\n",
    "b = [[1,2],[3,4]]\n",
    "c = [[4,3],[2,1]]\n",
    "print a,b\n",
    "print np.multiply(a,b)\n",
    "print scipy.signal.convolve2d(a,c,mode = 'same')\n",
    "print scipy.signal.convolve2d(a,b,mode = 'same')\n"
   ]
  },
  {
   "cell_type": "code",
   "execution_count": 387,
   "metadata": {
    "collapsed": false
   },
   "outputs": [
    {
     "data": {
      "text/plain": [
       "array([[ 0.,  0.,  0.],\n",
       "       [ 0.,  0.,  0.],\n",
       "       [ 0.,  0.,  0.]])"
      ]
     },
     "execution_count": 387,
     "metadata": {},
     "output_type": "execute_result"
    }
   ],
   "source": [
    "(tmp-tmp)**2"
   ]
  },
  {
   "cell_type": "code",
   "execution_count": null,
   "metadata": {
    "collapsed": false
   },
   "outputs": [],
   "source": []
  },
  {
   "cell_type": "code",
   "execution_count": null,
   "metadata": {
    "collapsed": true
   },
   "outputs": [],
   "source": []
  }
 ],
 "metadata": {
  "kernelspec": {
   "display_name": "Python 2",
   "language": "python",
   "name": "python2"
  },
  "language_info": {
   "codemirror_mode": {
    "name": "ipython",
    "version": 2
   },
   "file_extension": ".py",
   "mimetype": "text/x-python",
   "name": "python",
   "nbconvert_exporter": "python",
   "pygments_lexer": "ipython2",
   "version": "2.7.12"
  }
 },
 "nbformat": 4,
 "nbformat_minor": 2
}
