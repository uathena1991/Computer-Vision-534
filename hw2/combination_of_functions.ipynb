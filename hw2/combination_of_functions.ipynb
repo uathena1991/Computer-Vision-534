{
 "cells": [
  {
   "cell_type": "code",
   "execution_count": 1,
   "metadata": {
    "collapsed": false,
    "scrolled": true
   },
   "outputs": [
    {
     "name": "stderr",
     "output_type": "stream",
     "text": [
      "//anaconda/lib/python2.7/site-packages/matplotlib/font_manager.py:273: UserWarning: Matplotlib is building the font cache using fc-list. This may take a moment.\n",
      "  warnings.warn('Matplotlib is building the font cache using fc-list. This may take a moment.')\n",
      "ERROR:root:Line magic function `%pbd` not found.\n"
     ]
    },
    {
     "name": "stdout",
     "output_type": "stream",
     "text": [
      "Populating the interactive namespace from numpy and matplotlib\n"
     ]
    }
   ],
   "source": [
    "# %reset \n",
    "import numpy as np\n",
    "import scipy\n",
    "from skimage import morphology, io\n",
    "import matplotlib.pyplot as plt\n",
    "import os\n",
    "import sys\n",
    "sys.path.append(\"/Users/xiaolihe/Documents/Computer-Vision-534/hw2\")\n",
    "import pdb\n",
    "from sklearn import feature_extraction as sfe\n",
    "%pylab inline\n",
    "%pbd on"
   ]
  },
  {
   "cell_type": "code",
   "execution_count": 35,
   "metadata": {
    "collapsed": false
   },
   "outputs": [
    {
     "name": "stdout",
     "output_type": "stream",
     "text": [
      "[[ 0.08504938  0.214311    0.29163226  0.214311    0.08504938]\n",
      " [ 0.214311    0.54002987  0.73486725  0.54002987  0.214311  ]\n",
      " [ 0.29163226  0.73486725  1.          0.73486725  0.29163226]\n",
      " [ 0.214311    0.54002987  0.73486725  0.54002987  0.214311  ]\n",
      " [ 0.08504938  0.214311    0.29163226  0.214311    0.08504938]]\n",
      "[[False False False False False]\n",
      " [False  True  True  True False]\n",
      " [False  True  True  True False]\n",
      " [False  True  True  True False]\n",
      " [False False False False False]]\n",
      "[[ 0.          0.          0.          0.          0.        ]\n",
      " [ 0.          0.08853546  0.12047817  0.08853546  0.        ]\n",
      " [ 0.          0.12047817  0.16394549  0.12047817  0.        ]\n",
      " [ 0.          0.08853546  0.12047817  0.08853546  0.        ]\n",
      " [ 0.          0.          0.          0.          0.        ]]\n",
      "[[[  0.           0.           0.           0.           0.        ]\n",
      "  [  0.           0.08853546   4.33721406   0.35414184   0.        ]\n",
      "  [  0.           1.08430352   4.09863717   0.           0.        ]\n",
      "  [  0.           0.35414184   0.48191267   0.35414184   0.        ]\n",
      "  [  0.           0.           0.           0.           0.        ]]\n",
      "\n",
      " [[  0.           0.           0.           0.           0.        ]\n",
      "  [  0.           0.           0.48191267   0.           0.        ]\n",
      "  [  0.           1.92765069   2.62312779   0.48191267   0.        ]\n",
      "  [  0.           3.18727655   1.08430352   0.79681914   0.        ]\n",
      "  [  0.           0.           0.           0.           0.        ]]\n",
      "\n",
      " [[  0.           0.           0.           0.           0.        ]\n",
      "  [  0.           1.41656736   1.92765069   8.85354599   0.        ]\n",
      "  [  0.           1.08430352   0.65578195   5.90343025   0.        ]\n",
      "  [  0.           0.08853546   0.48191267   1.41656736   0.        ]\n",
      "  [  0.           0.           0.           0.           0.        ]]\n",
      "\n",
      " ..., \n",
      " [[  0.           0.           0.           0.           0.        ]\n",
      "  [  0.          10.00450696   9.75873164   7.17137225   0.        ]\n",
      "  [  0.          23.25228651  23.60815011  14.57785838   0.        ]\n",
      "  [  0.          17.08734375   8.19251545   0.           0.        ]\n",
      "  [  0.           0.           0.           0.           0.        ]]\n",
      "\n",
      " [[  0.           0.           0.           0.           0.        ]\n",
      "  [  0.          19.92047847   3.01195421   7.17137225   0.        ]\n",
      "  [  0.          14.57785838  36.88773454   0.48191267   0.        ]\n",
      "  [  0.          17.35295013  22.28846116   5.66626943   0.        ]\n",
      "  [  0.           0.           0.           0.           0.        ]]\n",
      "\n",
      " [[  0.           0.           0.           0.           0.        ]\n",
      "  [  0.          10.71279064   3.01195421   3.18727655   0.        ]\n",
      "  [  0.          23.61372101   5.90203753   0.48191267   0.        ]\n",
      "  [  0.           2.92167018  20.36081047   3.18727655   0.        ]\n",
      "  [  0.           0.           0.           0.           0.        ]]]\n"
     ]
    }
   ],
   "source": [
    "img_sample = io.imread(os.getcwd() + '/Documents/Computer-Vision-534/hw2/Assignment-II-images/' + 'T1.gif')\n",
    "winsize = 5\n",
    "patchlist = sfe.image.extract_patches_2d(img_sample, (winsize,winsize))\n",
    "template = patchlist[13]\n",
    "validmask = np.ones((winsize,winsize)) == False\n",
    "validmask[1:4,1:4] = True\n",
    "gaussmask = gkern(winsize, 3)\n",
    "maskintotal = np.multiply(validmask, gaussmask)\n",
    "mask_normalized = maskintotal / maskintotal.sum()\n",
    "\n",
    "dist = (patchlist - template)**2*mask_normalized\n",
    "ssd = [d.sum() for d in dist]\n",
    "print ss\n",
    "print dist"
   ]
  },
  {
   "cell_type": "code",
   "execution_count": 17,
   "metadata": {
    "collapsed": false,
    "scrolled": true
   },
   "outputs": [
    {
     "name": "stdout",
     "output_type": "stream",
     "text": [
      "0\n"
     ]
    },
    {
     "name": "stderr",
     "output_type": "stream",
     "text": [
      "/anaconda/lib/python2.7/site-packages/ipykernel/__main__.py:79: DeprecationWarning: numpy boolean subtract, the `-` operator, is deprecated, use the bitwise_xor, the `^` operator, or the logical_xor function instead.\n"
     ]
    },
    {
     "ename": "KeyboardInterrupt",
     "evalue": "",
     "output_type": "error",
     "traceback": [
      "\u001b[0;31m---------------------------------------------------------------------------\u001b[0m",
      "\u001b[0;31mKeyboardInterrupt\u001b[0m                         Traceback (most recent call last)",
      "\u001b[0;32m<ipython-input-17-7c2f95415ca9>\u001b[0m in \u001b[0;36m<module>\u001b[0;34m()\u001b[0m\n\u001b[1;32m    163\u001b[0m \u001b[0;34m\u001b[0m\u001b[0m\n\u001b[1;32m    164\u001b[0m \u001b[0;34m\u001b[0m\u001b[0m\n\u001b[0;32m--> 165\u001b[0;31m \u001b[0msynthesize\u001b[0m\u001b[0;34m(\u001b[0m\u001b[0;34m'T1.gif'\u001b[0m\u001b[0;34m,\u001b[0m \u001b[0;36m5\u001b[0m\u001b[0;34m,\u001b[0m \u001b[0;34m[\u001b[0m\u001b[0;36m100\u001b[0m\u001b[0;34m,\u001b[0m \u001b[0;36m100\u001b[0m\u001b[0;34m]\u001b[0m\u001b[0;34m)\u001b[0m\u001b[0;34m\u001b[0m\u001b[0m\n\u001b[0m",
      "\u001b[0;32m<ipython-input-17-7c2f95415ca9>\u001b[0m in \u001b[0;36msynthesize\u001b[0;34m(filename, winsize, shape_newimage, shape_seed)\u001b[0m\n\u001b[1;32m     40\u001b[0m \u001b[0;34m\u001b[0m\u001b[0m\n\u001b[1;32m     41\u001b[0m         \u001b[0;31m# Synthesis\u001b[0m\u001b[0;34m\u001b[0m\u001b[0;34m\u001b[0m\u001b[0m\n\u001b[0;32m---> 42\u001b[0;31m         \u001b[0mimg_new\u001b[0m \u001b[0;34m=\u001b[0m \u001b[0mGrowImage\u001b[0m\u001b[0;34m(\u001b[0m\u001b[0mimg_sample\u001b[0m\u001b[0;34m,\u001b[0m \u001b[0mimg2bfilled\u001b[0m\u001b[0;34m,\u001b[0m \u001b[0mfilled_status\u001b[0m\u001b[0;34m,\u001b[0m \u001b[0mwinsize\u001b[0m\u001b[0;34m)\u001b[0m\u001b[0;34m\u001b[0m\u001b[0m\n\u001b[0m\u001b[1;32m     43\u001b[0m \u001b[0;34m\u001b[0m\u001b[0m\n\u001b[1;32m     44\u001b[0m         \u001b[0;31m# show image\u001b[0m\u001b[0;34m\u001b[0m\u001b[0;34m\u001b[0m\u001b[0m\n",
      "\u001b[0;32m<ipython-input-17-7c2f95415ca9>\u001b[0m in \u001b[0;36mGrowImage\u001b[0;34m(SampleImage, image2bfilled, filled_status, winsize)\u001b[0m\n\u001b[1;32m     60\u001b[0m                 \u001b[0;32mfor\u001b[0m \u001b[0mridx\u001b[0m\u001b[0;34m,\u001b[0m \u001b[0mcolidx\u001b[0m \u001b[0;32min\u001b[0m \u001b[0mzip\u001b[0m\u001b[0;34m(\u001b[0m\u001b[0mrow_idxs\u001b[0m\u001b[0;34m,\u001b[0m \u001b[0mcol_idxs\u001b[0m\u001b[0;34m)\u001b[0m\u001b[0;34m:\u001b[0m\u001b[0;34m\u001b[0m\u001b[0m\n\u001b[1;32m     61\u001b[0m                         \u001b[0mTemplate\u001b[0m\u001b[0;34m,\u001b[0m \u001b[0mvalidmask\u001b[0m \u001b[0;34m=\u001b[0m \u001b[0mGetNeighborhoodWindow\u001b[0m\u001b[0;34m(\u001b[0m\u001b[0mridx\u001b[0m\u001b[0;34m,\u001b[0m \u001b[0mcolidx\u001b[0m\u001b[0;34m,\u001b[0m \u001b[0mimage2bfilled\u001b[0m\u001b[0;34m,\u001b[0m \u001b[0mwinsize\u001b[0m\u001b[0;34m)\u001b[0m\u001b[0;34m\u001b[0m\u001b[0m\n\u001b[0;32m---> 62\u001b[0;31m                         \u001b[0mBestMatches_list\u001b[0m \u001b[0;34m=\u001b[0m \u001b[0mFindMatches\u001b[0m\u001b[0;34m(\u001b[0m\u001b[0mTemplate\u001b[0m\u001b[0;34m,\u001b[0m \u001b[0mSampleImage\u001b[0m\u001b[0;34m,\u001b[0m \u001b[0mvalidmask\u001b[0m\u001b[0;34m,\u001b[0m \u001b[0mwinsize\u001b[0m\u001b[0;34m)\u001b[0m\u001b[0;34m\u001b[0m\u001b[0m\n\u001b[0m\u001b[1;32m     63\u001b[0m                         \u001b[0mBestMatch_loc\u001b[0m\u001b[0;34m,\u001b[0m \u001b[0mBestMatch_error\u001b[0m \u001b[0;34m=\u001b[0m \u001b[0mRandomPick\u001b[0m\u001b[0;34m(\u001b[0m\u001b[0mBestMatches_list\u001b[0m\u001b[0;34m)\u001b[0m\u001b[0;34m\u001b[0m\u001b[0m\n\u001b[1;32m     64\u001b[0m                         \u001b[0;32mif\u001b[0m \u001b[0mBestMatch_error\u001b[0m \u001b[0;34m<\u001b[0m \u001b[0mMaxErrThreshold\u001b[0m\u001b[0;34m:\u001b[0m\u001b[0;34m\u001b[0m\u001b[0m\n",
      "\u001b[0;32m<ipython-input-17-7c2f95415ca9>\u001b[0m in \u001b[0;36mFindMatches\u001b[0;34m(Template, SampleImage, ValidMask, winsize)\u001b[0m\n\u001b[1;32m    128\u001b[0m                         \u001b[0mcurr_patch\u001b[0m \u001b[0;34m=\u001b[0m \u001b[0mSampleImage\u001b[0m\u001b[0;34m[\u001b[0m\u001b[0mi\u001b[0m \u001b[0;34m-\u001b[0m \u001b[0mwinsize\u001b[0m \u001b[0;34m/\u001b[0m \u001b[0;36m2\u001b[0m\u001b[0;34m:\u001b[0m\u001b[0mi\u001b[0m \u001b[0;34m+\u001b[0m \u001b[0mwinsize\u001b[0m \u001b[0;34m/\u001b[0m \u001b[0;36m2\u001b[0m\u001b[0;34m+\u001b[0m\u001b[0;36m1\u001b[0m\u001b[0;34m,\u001b[0m \u001b[0mj\u001b[0m \u001b[0;34m-\u001b[0m \u001b[0mwinsize\u001b[0m \u001b[0;34m/\u001b[0m \u001b[0;36m2\u001b[0m\u001b[0;34m:\u001b[0m\u001b[0mj\u001b[0m \u001b[0;34m+\u001b[0m \u001b[0mwinsize\u001b[0m \u001b[0;34m/\u001b[0m \u001b[0;36m2\u001b[0m \u001b[0;34m+\u001b[0m\u001b[0;36m1\u001b[0m\u001b[0;34m]\u001b[0m\u001b[0;34m\u001b[0m\u001b[0m\n\u001b[1;32m    129\u001b[0m                         \u001b[0mdist\u001b[0m \u001b[0;34m=\u001b[0m \u001b[0;34m(\u001b[0m\u001b[0mTemplate\u001b[0m \u001b[0;34m-\u001b[0m \u001b[0mcurr_patch\u001b[0m\u001b[0;34m)\u001b[0m \u001b[0;34m**\u001b[0m \u001b[0;36m2\u001b[0m\u001b[0;34m\u001b[0m\u001b[0m\n\u001b[0;32m--> 130\u001b[0;31m                         \u001b[0mSSD\u001b[0m\u001b[0;34m[\u001b[0m\u001b[0mi\u001b[0m\u001b[0;34m,\u001b[0m \u001b[0mj\u001b[0m\u001b[0;34m]\u001b[0m \u001b[0;34m+=\u001b[0m \u001b[0mnp\u001b[0m\u001b[0;34m.\u001b[0m\u001b[0mmultiply\u001b[0m\u001b[0;34m(\u001b[0m\u001b[0mdist\u001b[0m\u001b[0;34m,\u001b[0m \u001b[0mmask_normalized\u001b[0m\u001b[0;34m)\u001b[0m\u001b[0;34m.\u001b[0m\u001b[0msum\u001b[0m\u001b[0;34m(\u001b[0m\u001b[0;34m)\u001b[0m\u001b[0;34m\u001b[0m\u001b[0m\n\u001b[0m\u001b[1;32m    131\u001b[0m                 \u001b[0;31m#     pdb.set_trace()\u001b[0m\u001b[0;34m\u001b[0m\u001b[0;34m\u001b[0m\u001b[0m\n\u001b[1;32m    132\u001b[0m         \u001b[0mthr\u001b[0m \u001b[0;34m=\u001b[0m \u001b[0mSSD\u001b[0m\u001b[0;34m[\u001b[0m\u001b[0mSSD\u001b[0m \u001b[0;34m!=\u001b[0m \u001b[0;36m0\u001b[0m\u001b[0;34m]\u001b[0m\u001b[0;34m.\u001b[0m\u001b[0mmin\u001b[0m\u001b[0;34m(\u001b[0m\u001b[0;34m)\u001b[0m \u001b[0;34m*\u001b[0m \u001b[0;34m(\u001b[0m\u001b[0;36m1\u001b[0m \u001b[0;34m+\u001b[0m \u001b[0mErrThreshold\u001b[0m\u001b[0;34m)\u001b[0m\u001b[0;34m\u001b[0m\u001b[0m\n",
      "\u001b[0;31mKeyboardInterrupt\u001b[0m: "
     ]
    }
   ],
   "source": [
    "# coding: utf-8\n",
    "\n",
    "# In[1]:\n",
    "\n",
    "# %reset \n",
    "import numpy as np\n",
    "import scipy\n",
    "from skimage import morphology, io\n",
    "import matplotlib.pyplot as plt\n",
    "import os\n",
    "import sys\n",
    "import pdb\n",
    "\n",
    "sys.path.append(\"/Users/xiaolihe/Documents/Computer-Vision-534/hw2\")\n",
    "\n",
    "\n",
    "# In[2]:\n",
    "\n",
    "\n",
    "# In[ ]:\n",
    "\n",
    "## growimage \n",
    "def synthesize(filename, winsize, shape_newimage, shape_seed=(15, 15)):\n",
    "\t# read sample image\n",
    "\timg_sample = io.imread(os.getcwd() + '/Documents/Computer-Vision-534/hw2/Assignment-II-images/' + filename)\n",
    "\n",
    "\t# initialize img2bfilled with a random sample from sample image (size: shape_seed)\n",
    "\trandrow = int(np.random.rand() * (img_sample.shape[0] - shape_seed[0]))\n",
    "\trandcol = int(np.random.rand() * (img_sample.shape[1] - shape_seed[1]))\n",
    "\tseed_img = img_sample[randrow: randrow + shape_seed[0], randcol: randcol + shape_seed[1]]\n",
    "\t# (left-up corner is the center of img2bfilled)\n",
    "\t#     range_in_img2bfilled = (shape_newimage[0]/2 : (shape_newimage[0]/2 + shape_seed[0]),\n",
    "\t#                 shape_newimage[1]/2 : (shape_newimage[1]/2 + shape_seed[1]))\n",
    "\timg2bfilled = np.zeros(shape_newimage)\n",
    "\timg2bfilled[shape_newimage[0] / 2: (shape_newimage[0] / 2 + shape_seed[0]),\n",
    "\tshape_newimage[1] / 2: (shape_newimage[1] / 2 + shape_seed[1])] = seed_img\n",
    "\tfilled_status = np.ones(shape_newimage) == False\n",
    "\tfilled_status[shape_newimage[0] / 2: (shape_newimage[0] / 2 + shape_seed[0]),\n",
    "\tshape_newimage[1] / 2: (shape_newimage[1] / 2 + shape_seed[1])] = True\n",
    "\n",
    "\t# Synthesis\n",
    "\timg_new = GrowImage(img_sample, img2bfilled, filled_status, winsize)\n",
    "\n",
    "\t# show image\n",
    "\tplt.imshow(img_sample)\n",
    "\tplt.title('sample image')\n",
    "\tplt.show()\n",
    "\tplt.imshow(img_new)\n",
    "\tplt.title('Sythesized image')\n",
    "\tplt.show()\n",
    "\n",
    "\n",
    "def GrowImage(SampleImage, image2bfilled, filled_status, winsize):\n",
    "\tMaxErrThreshold = 0.3\n",
    "\tct = 0\n",
    "\twhile not filled_status.all():\n",
    "\t\tprint ct\n",
    "\t\tprogress = 0\n",
    "\t\trow_idxs, col_idxs = GetUnfilledNeighbors(filled_status, winsize)\n",
    "\t\tfor ridx, colidx in zip(row_idxs, col_idxs):\n",
    "\t\t\tTemplate, validmask = GetNeighborhoodWindow(ridx, colidx, image2bfilled, winsize)\n",
    "\t\t\tBestMatches_list = FindMatches(Template, SampleImage, validmask, winsize)\n",
    "\t\t\tBestMatch_loc, BestMatch_error = RandomPick(BestMatches_list)\n",
    "\t\t\tif BestMatch_error < MaxErrThreshold:\n",
    "\t\t\t\timage2bfilled[ridx, colidx] = SampleImage[BestMatch_loc]\n",
    "\t\t\t\tprogress = 1\n",
    "\t\t\t\tfilled_status[ridx, colidx] = True\n",
    "\t\t\t\tct+=1\n",
    "\t\t# pdb.set_trace()\n",
    "\t\tplt.imshow(image2bfilled, cmap='gray')\n",
    "\t\tplt.show()\n",
    "\t\tif progress == 0:\n",
    "\t\t\tMaxErrThreshold *= 1.1\n",
    "\treturn image2bfilled\n",
    "\n",
    "\n",
    "## GetUnfilledNeighbors\n",
    "def GetUnfilledNeighbors(filled_status, winsize):\n",
    "\tsubs_image = morphology.dilation(filled_status) - filled_status\n",
    "\t#     pdb.set_trace()\n",
    "\t[row_idxs, col_idxs] = np.where(subs_image != 0)\n",
    "\t# random permutation\n",
    "\trandidx = np.random.permutation(len(row_idxs))\n",
    "\trow_idxs = [row_idxs[idx] for idx in randidx]\n",
    "\tcol_idxs = [col_idxs[idx] for idx in randidx]\n",
    "\t# sorted by decreasing number of filled neighbor pixels\n",
    "\tfilledsum = scipy.ndimage.generic_filter((filled_status!=0).astype('double'), np.sum, winsize)\n",
    "\t#     pdb.set_trace()\n",
    "\t# filled sum for the boundary points in row_idxs,col_idxs\n",
    "\tfilledsum_bs = [filledsum[x, y] for x, y in zip(row_idxs, col_idxs)]\n",
    "\t#     pdb.set_trace()\n",
    "\tsorted_idx = np.array(filledsum_bs).argsort()[::-1]\n",
    "\tres_row = [row_idxs[i] for i in sorted_idx]\n",
    "\tres_col = [col_idxs[i] for i in sorted_idx]\n",
    "\treturn res_row, res_col\n",
    "\n",
    "\n",
    "## GetNeighborhoodWindow\n",
    "def GetNeighborhoodWindow(ridx, colidx, image2bfilled, winsize):\n",
    "\thalf_winsize = winsize / 2\n",
    "\trow_range = range(ridx - half_winsize, ridx + half_winsize + 1)\n",
    "\tcol_range = range(colidx - half_winsize, colidx + half_winsize + 1)\n",
    "\ttemplate = np.zeros((winsize, winsize))\n",
    "\ttemplate_filled_status = np.ones((winsize, winsize)) == False\n",
    "\tfor r in range(winsize):\n",
    "\t\tfor c in range(winsize):\n",
    "\t\t\tif row_range[r] in range(image2bfilled.shape[0]) and col_range[c] in range(image2bfilled.shape[1]):\n",
    "\t\t\t\ttemplate[r, c] = image2bfilled[row_range[r], col_range[c]]\n",
    "\t\t\t\ttemplate_filled_status[r, c] = True\n",
    "\treturn template, template_filled_status\n",
    "\n",
    "\n",
    "## Find Matches, return locations, corresponding ssd\n",
    "def FindMatches(Template, SampleImage, ValidMask, winsize):\n",
    "\tSigma = winsize / 6.4\n",
    "\tErrThreshold = 0.1\n",
    "\tsample_r, sample_c = SampleImage.shape\n",
    "\n",
    "\tGaussMask = gkern(winsize, Sigma)\n",
    "\tmaskintotal = np.multiply(ValidMask, GaussMask)\n",
    "\tmask_normalized = maskintotal / maskintotal.sum()\n",
    "\tSSD = np.zeros(SampleImage.shape)\n",
    "\tPixelList = []  # locations of qualified candidates\n",
    "\t#     for i,j in zip(range(winsize/2, sample_r - winsize/2-1), range(winsize/2, sample_c - winsize/2-1)): # for each patch in SampleImage\n",
    "\tfor i in range(winsize / 2, sample_r - winsize / 2 - 1):  # for each patch in SampleImage\n",
    "\t\tfor j in range(winsize / 2, sample_c - winsize / 2 - 1):\n",
    "\t\t\t#             pdb.set_trace()\n",
    "\t\t\tcurr_patch = SampleImage[i - winsize / 2:i + winsize / 2+1, j - winsize / 2:j + winsize / 2 +1]\n",
    "\t\t\tdist = (Template - curr_patch) ** 2\n",
    "\t\t\tSSD[i, j] += np.multiply(dist, mask_normalized).sum()\n",
    "\t\t#     pdb.set_trace()\n",
    "\tthr = SSD[SSD != 0].min() * (1 + ErrThreshold)\n",
    "\tfor i in range(SSD.shape[0]):\n",
    "\t\tfor j in range(SSD.shape[1]):\n",
    "\t\t\tif SSD[i, j] <= thr:\n",
    "\t\t\t\tPixelList.append([(i, j), SSD[i, j]])\n",
    "\treturn PixelList\n",
    "\n",
    "\n",
    "def gkern(size, fwhm=3.0, center=None):\n",
    "\t\"\"\" Make a square gaussian kernel.\n",
    "\n",
    "    size is the length of a side of the square\n",
    "    fwhm is full-width-half-maximum, which\n",
    "    can be thought of as an effective radius.\n",
    "    \"\"\"\n",
    "\n",
    "\tx = np.arange(0, size, 1, float)\n",
    "\ty = x[:, np.newaxis]\n",
    "\n",
    "\tif center is None:\n",
    "\t\tx0 = y0 = size // 2\n",
    "\telse:\n",
    "\t\tx0 = center[0]\n",
    "\t\ty0 = center[1]\n",
    "\n",
    "\treturn np.exp(-4 * np.log(2) * ((x - x0) ** 2 + (y - y0) ** 2) / fwhm ** 2)\n",
    "\n",
    "\n",
    "def RandomPick(BestMatches):\n",
    "\t## return the location of the best match randomly from the candidates lists\n",
    "\treturn BestMatches[np.random.randint(0, len(BestMatches))]\n",
    "\n",
    "\n",
    "synthesize('T1.gif', 5, [100, 100])\n"
   ]
  },
  {
   "cell_type": "code",
   "execution_count": null,
   "metadata": {
    "collapsed": false
   },
   "outputs": [],
   "source": [
    "def makeGaussian(size, fwhm = 3, center=None):\n",
    "    \"\"\" Make a square gaussian kernel.\n",
    "\n",
    "    size is the length of a side of the square\n",
    "    fwhm is full-width-half-maximum, which\n",
    "    can be thought of as an effective radius.\n",
    "    \"\"\"\n",
    "\n",
    "    x = np.arange(0, size, 1, float)\n",
    "    y = x[:,np.newaxis]\n",
    "\n",
    "    if center is None:\n",
    "        x0 = y0 = size // 2\n",
    "    else:\n",
    "        x0 = center[0]\n",
    "        y0 = center[1]\n",
    "\n",
    "    return np.exp(-4*np.log(2) * ((x-x0)**2 + (y-y0)**2) / fwhm**2)"
   ]
  },
  {
   "cell_type": "code",
   "execution_count": null,
   "metadata": {
    "collapsed": false
   },
   "outputs": [],
   "source": [
    "tmp = makeGaussian(3,1)\n",
    "tmp2 = np.multiply(tmp,tmp)\n",
    "tmp3 = scipy.signal.convolve2d(tmp,tmp,mode = 'same')\n",
    "print tmp2.sum(),tmp3.sum()\n",
    "print tmp\n",
    "print tmp2.sum()\n",
    "print tmp3.sum()\n",
    "\n"
   ]
  },
  {
   "cell_type": "code",
   "execution_count": 21,
   "metadata": {
    "collapsed": false
   },
   "outputs": [
    {
     "name": "stdout",
     "output_type": "stream",
     "text": [
      "[[0, 2], [3, 4]] [[1, 2], [3, 4]]\n",
      "[[ 0  4]\n",
      " [ 9 16]]\n",
      "[[ 0  8]\n",
      " [12 29]]\n",
      "[[ 0  2]\n",
      " [ 3 16]]\n"
     ]
    }
   ],
   "source": [
    "a = [[0,2],[3,4]]\n",
    "b = [[1,2],[3,4]]\n",
    "c = [[4,3],[2,1]]\n",
    "print a,b\n",
    "print np.multiply(a,b)\n",
    "print scipy.signal.convolve2d(a,c,mode = 'same')\n",
    "print scipy.signal.convolve2d(a,b,mode = 'same')\n"
   ]
  },
  {
   "cell_type": "code",
   "execution_count": 18,
   "metadata": {
    "collapsed": false
   },
   "outputs": [],
   "source": [
    "def gkern(size, fwhm=3.0, center=None):\n",
    "\t\"\"\" Make a square gaussian kernel.\n",
    "\n",
    "    size is the length of a side of the square\n",
    "    fwhm is full-width-half-maximum, which\n",
    "    can be thought of as an effective radius.\n",
    "    \"\"\"\n",
    "\n",
    "\tx = np.arange(0, size, 1, float)\n",
    "\ty = x[:, np.newaxis]\n",
    "\n",
    "\tif center is None:\n",
    "\t\tx0 = y0 = size // 2\n",
    "\telse:\n",
    "\t\tx0 = center[0]\n",
    "\t\ty0 = center[1]\n",
    "\n",
    "\treturn np.exp(-4 * np.log(2) * ((x - x0) ** 2 + (y - y0) ** 2) / fwhm ** 2)"
   ]
  },
  {
   "cell_type": "code",
   "execution_count": 23,
   "metadata": {
    "collapsed": false
   },
   "outputs": [
    {
     "data": {
      "text/plain": [
       "(array([0, 1, 1]), array([1, 0, 1]))"
      ]
     },
     "execution_count": 23,
     "metadata": {},
     "output_type": "execute_result"
    }
   ],
   "source": [
    "np.nonzero(a)\n"
   ]
  },
  {
   "cell_type": "code",
   "execution_count": null,
   "metadata": {
    "collapsed": true
   },
   "outputs": [],
   "source": []
  }
 ],
 "metadata": {
  "kernelspec": {
   "display_name": "Python 2",
   "language": "python",
   "name": "python2"
  },
  "language_info": {
   "codemirror_mode": {
    "name": "ipython",
    "version": 2
   },
   "file_extension": ".py",
   "mimetype": "text/x-python",
   "name": "python",
   "nbconvert_exporter": "python",
   "pygments_lexer": "ipython2",
   "version": "2.7.12"
  }
 },
 "nbformat": 4,
 "nbformat_minor": 2
}
